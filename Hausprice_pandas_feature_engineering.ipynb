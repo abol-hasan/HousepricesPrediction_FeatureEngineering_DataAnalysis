{
  "nbformat": 4,
  "nbformat_minor": 0,
  "metadata": {
    "colab": {
      "name": "Hausprice_pandas_feature_engineering.ipynb",
      "provenance": [],
      "mount_file_id": "1ND7cx1VaQ_zwVwRKbNU4bYekAKcm-7k3",
      "authorship_tag": "ABX9TyNdSKvzU4hRtCVvYSwLGOit",
      "include_colab_link": true
    },
    "kernelspec": {
      "name": "python3",
      "display_name": "Python 3"
    },
    "language_info": {
      "name": "python"
    }
  },
  "cells": [
    {
      "cell_type": "markdown",
      "metadata": {
        "id": "view-in-github",
        "colab_type": "text"
      },
      "source": [
        "<a href=\"https://colab.research.google.com/github/abol-hasan/HousepricesPrediction_FeatureEngineering_DataAnalysis/blob/main/Hausprice_pandas_feature_engineering.ipynb\" target=\"_parent\"><img src=\"https://colab.research.google.com/assets/colab-badge.svg\" alt=\"Open In Colab\"/></a>"
      ]
    },
    {
      "cell_type": "code",
      "metadata": {
        "id": "fgmdw9nM3rOt"
      },
      "source": [
        "import matplotlib.pyplot as plt\n",
        "import numpy as np\n",
        "import seaborn as sns\n",
        "import scipy.stats as stats\n",
        "from sklearn.model_selection import train_test_split\n",
        "from sklearn.preprocessing import MinMaxScaler\n",
        "import joblib"
      ],
      "execution_count": null,
      "outputs": []
    },
    {
      "cell_type": "code",
      "metadata": {
        "colab": {
          "base_uri": "https://localhost:8080/",
          "height": 444
        },
        "id": "At89SbZY339z",
        "outputId": "4e042d2b-f455-4757-960d-442d422d3d11"
      },
      "source": [
        "import pandas as pd\n",
        "pd.pandas.set_option('display.max_columns', None)\n",
        "df = pd.read_csv('/content/drive/MyDrive/Dataset/train.csv')\n",
        "display(df)\n"
      ],
      "execution_count": null,
      "outputs": [
        {
          "output_type": "display_data",
          "data": {
            "text/html": [
              "<div>\n",
              "<style scoped>\n",
              "    .dataframe tbody tr th:only-of-type {\n",
              "        vertical-align: middle;\n",
              "    }\n",
              "\n",
              "    .dataframe tbody tr th {\n",
              "        vertical-align: top;\n",
              "    }\n",
              "\n",
              "    .dataframe thead th {\n",
              "        text-align: right;\n",
              "    }\n",
              "</style>\n",
              "<table border=\"1\" class=\"dataframe\">\n",
              "  <thead>\n",
              "    <tr style=\"text-align: right;\">\n",
              "      <th></th>\n",
              "      <th>Id</th>\n",
              "      <th>MSSubClass</th>\n",
              "      <th>MSZoning</th>\n",
              "      <th>LotFrontage</th>\n",
              "      <th>LotArea</th>\n",
              "      <th>Street</th>\n",
              "      <th>Alley</th>\n",
              "      <th>LotShape</th>\n",
              "      <th>LandContour</th>\n",
              "      <th>Utilities</th>\n",
              "      <th>LotConfig</th>\n",
              "      <th>LandSlope</th>\n",
              "      <th>Neighborhood</th>\n",
              "      <th>Condition1</th>\n",
              "      <th>Condition2</th>\n",
              "      <th>BldgType</th>\n",
              "      <th>HouseStyle</th>\n",
              "      <th>OverallQual</th>\n",
              "      <th>OverallCond</th>\n",
              "      <th>YearBuilt</th>\n",
              "      <th>YearRemodAdd</th>\n",
              "      <th>RoofStyle</th>\n",
              "      <th>RoofMatl</th>\n",
              "      <th>Exterior1st</th>\n",
              "      <th>Exterior2nd</th>\n",
              "      <th>MasVnrType</th>\n",
              "      <th>MasVnrArea</th>\n",
              "      <th>ExterQual</th>\n",
              "      <th>ExterCond</th>\n",
              "      <th>Foundation</th>\n",
              "      <th>BsmtQual</th>\n",
              "      <th>BsmtCond</th>\n",
              "      <th>BsmtExposure</th>\n",
              "      <th>BsmtFinType1</th>\n",
              "      <th>BsmtFinSF1</th>\n",
              "      <th>BsmtFinType2</th>\n",
              "      <th>BsmtFinSF2</th>\n",
              "      <th>BsmtUnfSF</th>\n",
              "      <th>TotalBsmtSF</th>\n",
              "      <th>Heating</th>\n",
              "      <th>HeatingQC</th>\n",
              "      <th>CentralAir</th>\n",
              "      <th>Electrical</th>\n",
              "      <th>1stFlrSF</th>\n",
              "      <th>2ndFlrSF</th>\n",
              "      <th>LowQualFinSF</th>\n",
              "      <th>GrLivArea</th>\n",
              "      <th>BsmtFullBath</th>\n",
              "      <th>BsmtHalfBath</th>\n",
              "      <th>FullBath</th>\n",
              "      <th>HalfBath</th>\n",
              "      <th>BedroomAbvGr</th>\n",
              "      <th>KitchenAbvGr</th>\n",
              "      <th>KitchenQual</th>\n",
              "      <th>TotRmsAbvGrd</th>\n",
              "      <th>Functional</th>\n",
              "      <th>Fireplaces</th>\n",
              "      <th>FireplaceQu</th>\n",
              "      <th>GarageType</th>\n",
              "      <th>GarageYrBlt</th>\n",
              "      <th>GarageFinish</th>\n",
              "      <th>GarageCars</th>\n",
              "      <th>GarageArea</th>\n",
              "      <th>GarageQual</th>\n",
              "      <th>GarageCond</th>\n",
              "      <th>PavedDrive</th>\n",
              "      <th>WoodDeckSF</th>\n",
              "      <th>OpenPorchSF</th>\n",
              "      <th>EnclosedPorch</th>\n",
              "      <th>3SsnPorch</th>\n",
              "      <th>ScreenPorch</th>\n",
              "      <th>PoolArea</th>\n",
              "      <th>PoolQC</th>\n",
              "      <th>Fence</th>\n",
              "      <th>MiscFeature</th>\n",
              "      <th>MiscVal</th>\n",
              "      <th>MoSold</th>\n",
              "      <th>YrSold</th>\n",
              "      <th>SaleType</th>\n",
              "      <th>SaleCondition</th>\n",
              "      <th>SalePrice</th>\n",
              "    </tr>\n",
              "  </thead>\n",
              "  <tbody>\n",
              "    <tr>\n",
              "      <th>0</th>\n",
              "      <td>1</td>\n",
              "      <td>60</td>\n",
              "      <td>RL</td>\n",
              "      <td>65.0</td>\n",
              "      <td>8450</td>\n",
              "      <td>Pave</td>\n",
              "      <td>NaN</td>\n",
              "      <td>Reg</td>\n",
              "      <td>Lvl</td>\n",
              "      <td>AllPub</td>\n",
              "      <td>Inside</td>\n",
              "      <td>Gtl</td>\n",
              "      <td>CollgCr</td>\n",
              "      <td>Norm</td>\n",
              "      <td>Norm</td>\n",
              "      <td>1Fam</td>\n",
              "      <td>2Story</td>\n",
              "      <td>7</td>\n",
              "      <td>5</td>\n",
              "      <td>2003</td>\n",
              "      <td>2003</td>\n",
              "      <td>Gable</td>\n",
              "      <td>CompShg</td>\n",
              "      <td>VinylSd</td>\n",
              "      <td>VinylSd</td>\n",
              "      <td>BrkFace</td>\n",
              "      <td>196.0</td>\n",
              "      <td>Gd</td>\n",
              "      <td>TA</td>\n",
              "      <td>PConc</td>\n",
              "      <td>Gd</td>\n",
              "      <td>TA</td>\n",
              "      <td>No</td>\n",
              "      <td>GLQ</td>\n",
              "      <td>706</td>\n",
              "      <td>Unf</td>\n",
              "      <td>0</td>\n",
              "      <td>150</td>\n",
              "      <td>856</td>\n",
              "      <td>GasA</td>\n",
              "      <td>Ex</td>\n",
              "      <td>Y</td>\n",
              "      <td>SBrkr</td>\n",
              "      <td>856</td>\n",
              "      <td>854</td>\n",
              "      <td>0</td>\n",
              "      <td>1710</td>\n",
              "      <td>1</td>\n",
              "      <td>0</td>\n",
              "      <td>2</td>\n",
              "      <td>1</td>\n",
              "      <td>3</td>\n",
              "      <td>1</td>\n",
              "      <td>Gd</td>\n",
              "      <td>8</td>\n",
              "      <td>Typ</td>\n",
              "      <td>0</td>\n",
              "      <td>NaN</td>\n",
              "      <td>Attchd</td>\n",
              "      <td>2003.0</td>\n",
              "      <td>RFn</td>\n",
              "      <td>2</td>\n",
              "      <td>548</td>\n",
              "      <td>TA</td>\n",
              "      <td>TA</td>\n",
              "      <td>Y</td>\n",
              "      <td>0</td>\n",
              "      <td>61</td>\n",
              "      <td>0</td>\n",
              "      <td>0</td>\n",
              "      <td>0</td>\n",
              "      <td>0</td>\n",
              "      <td>NaN</td>\n",
              "      <td>NaN</td>\n",
              "      <td>NaN</td>\n",
              "      <td>0</td>\n",
              "      <td>2</td>\n",
              "      <td>2008</td>\n",
              "      <td>WD</td>\n",
              "      <td>Normal</td>\n",
              "      <td>208500</td>\n",
              "    </tr>\n",
              "    <tr>\n",
              "      <th>1</th>\n",
              "      <td>2</td>\n",
              "      <td>20</td>\n",
              "      <td>RL</td>\n",
              "      <td>80.0</td>\n",
              "      <td>9600</td>\n",
              "      <td>Pave</td>\n",
              "      <td>NaN</td>\n",
              "      <td>Reg</td>\n",
              "      <td>Lvl</td>\n",
              "      <td>AllPub</td>\n",
              "      <td>FR2</td>\n",
              "      <td>Gtl</td>\n",
              "      <td>Veenker</td>\n",
              "      <td>Feedr</td>\n",
              "      <td>Norm</td>\n",
              "      <td>1Fam</td>\n",
              "      <td>1Story</td>\n",
              "      <td>6</td>\n",
              "      <td>8</td>\n",
              "      <td>1976</td>\n",
              "      <td>1976</td>\n",
              "      <td>Gable</td>\n",
              "      <td>CompShg</td>\n",
              "      <td>MetalSd</td>\n",
              "      <td>MetalSd</td>\n",
              "      <td>None</td>\n",
              "      <td>0.0</td>\n",
              "      <td>TA</td>\n",
              "      <td>TA</td>\n",
              "      <td>CBlock</td>\n",
              "      <td>Gd</td>\n",
              "      <td>TA</td>\n",
              "      <td>Gd</td>\n",
              "      <td>ALQ</td>\n",
              "      <td>978</td>\n",
              "      <td>Unf</td>\n",
              "      <td>0</td>\n",
              "      <td>284</td>\n",
              "      <td>1262</td>\n",
              "      <td>GasA</td>\n",
              "      <td>Ex</td>\n",
              "      <td>Y</td>\n",
              "      <td>SBrkr</td>\n",
              "      <td>1262</td>\n",
              "      <td>0</td>\n",
              "      <td>0</td>\n",
              "      <td>1262</td>\n",
              "      <td>0</td>\n",
              "      <td>1</td>\n",
              "      <td>2</td>\n",
              "      <td>0</td>\n",
              "      <td>3</td>\n",
              "      <td>1</td>\n",
              "      <td>TA</td>\n",
              "      <td>6</td>\n",
              "      <td>Typ</td>\n",
              "      <td>1</td>\n",
              "      <td>TA</td>\n",
              "      <td>Attchd</td>\n",
              "      <td>1976.0</td>\n",
              "      <td>RFn</td>\n",
              "      <td>2</td>\n",
              "      <td>460</td>\n",
              "      <td>TA</td>\n",
              "      <td>TA</td>\n",
              "      <td>Y</td>\n",
              "      <td>298</td>\n",
              "      <td>0</td>\n",
              "      <td>0</td>\n",
              "      <td>0</td>\n",
              "      <td>0</td>\n",
              "      <td>0</td>\n",
              "      <td>NaN</td>\n",
              "      <td>NaN</td>\n",
              "      <td>NaN</td>\n",
              "      <td>0</td>\n",
              "      <td>5</td>\n",
              "      <td>2007</td>\n",
              "      <td>WD</td>\n",
              "      <td>Normal</td>\n",
              "      <td>181500</td>\n",
              "    </tr>\n",
              "    <tr>\n",
              "      <th>2</th>\n",
              "      <td>3</td>\n",
              "      <td>60</td>\n",
              "      <td>RL</td>\n",
              "      <td>68.0</td>\n",
              "      <td>11250</td>\n",
              "      <td>Pave</td>\n",
              "      <td>NaN</td>\n",
              "      <td>IR1</td>\n",
              "      <td>Lvl</td>\n",
              "      <td>AllPub</td>\n",
              "      <td>Inside</td>\n",
              "      <td>Gtl</td>\n",
              "      <td>CollgCr</td>\n",
              "      <td>Norm</td>\n",
              "      <td>Norm</td>\n",
              "      <td>1Fam</td>\n",
              "      <td>2Story</td>\n",
              "      <td>7</td>\n",
              "      <td>5</td>\n",
              "      <td>2001</td>\n",
              "      <td>2002</td>\n",
              "      <td>Gable</td>\n",
              "      <td>CompShg</td>\n",
              "      <td>VinylSd</td>\n",
              "      <td>VinylSd</td>\n",
              "      <td>BrkFace</td>\n",
              "      <td>162.0</td>\n",
              "      <td>Gd</td>\n",
              "      <td>TA</td>\n",
              "      <td>PConc</td>\n",
              "      <td>Gd</td>\n",
              "      <td>TA</td>\n",
              "      <td>Mn</td>\n",
              "      <td>GLQ</td>\n",
              "      <td>486</td>\n",
              "      <td>Unf</td>\n",
              "      <td>0</td>\n",
              "      <td>434</td>\n",
              "      <td>920</td>\n",
              "      <td>GasA</td>\n",
              "      <td>Ex</td>\n",
              "      <td>Y</td>\n",
              "      <td>SBrkr</td>\n",
              "      <td>920</td>\n",
              "      <td>866</td>\n",
              "      <td>0</td>\n",
              "      <td>1786</td>\n",
              "      <td>1</td>\n",
              "      <td>0</td>\n",
              "      <td>2</td>\n",
              "      <td>1</td>\n",
              "      <td>3</td>\n",
              "      <td>1</td>\n",
              "      <td>Gd</td>\n",
              "      <td>6</td>\n",
              "      <td>Typ</td>\n",
              "      <td>1</td>\n",
              "      <td>TA</td>\n",
              "      <td>Attchd</td>\n",
              "      <td>2001.0</td>\n",
              "      <td>RFn</td>\n",
              "      <td>2</td>\n",
              "      <td>608</td>\n",
              "      <td>TA</td>\n",
              "      <td>TA</td>\n",
              "      <td>Y</td>\n",
              "      <td>0</td>\n",
              "      <td>42</td>\n",
              "      <td>0</td>\n",
              "      <td>0</td>\n",
              "      <td>0</td>\n",
              "      <td>0</td>\n",
              "      <td>NaN</td>\n",
              "      <td>NaN</td>\n",
              "      <td>NaN</td>\n",
              "      <td>0</td>\n",
              "      <td>9</td>\n",
              "      <td>2008</td>\n",
              "      <td>WD</td>\n",
              "      <td>Normal</td>\n",
              "      <td>223500</td>\n",
              "    </tr>\n",
              "    <tr>\n",
              "      <th>3</th>\n",
              "      <td>4</td>\n",
              "      <td>70</td>\n",
              "      <td>RL</td>\n",
              "      <td>60.0</td>\n",
              "      <td>9550</td>\n",
              "      <td>Pave</td>\n",
              "      <td>NaN</td>\n",
              "      <td>IR1</td>\n",
              "      <td>Lvl</td>\n",
              "      <td>AllPub</td>\n",
              "      <td>Corner</td>\n",
              "      <td>Gtl</td>\n",
              "      <td>Crawfor</td>\n",
              "      <td>Norm</td>\n",
              "      <td>Norm</td>\n",
              "      <td>1Fam</td>\n",
              "      <td>2Story</td>\n",
              "      <td>7</td>\n",
              "      <td>5</td>\n",
              "      <td>1915</td>\n",
              "      <td>1970</td>\n",
              "      <td>Gable</td>\n",
              "      <td>CompShg</td>\n",
              "      <td>Wd Sdng</td>\n",
              "      <td>Wd Shng</td>\n",
              "      <td>None</td>\n",
              "      <td>0.0</td>\n",
              "      <td>TA</td>\n",
              "      <td>TA</td>\n",
              "      <td>BrkTil</td>\n",
              "      <td>TA</td>\n",
              "      <td>Gd</td>\n",
              "      <td>No</td>\n",
              "      <td>ALQ</td>\n",
              "      <td>216</td>\n",
              "      <td>Unf</td>\n",
              "      <td>0</td>\n",
              "      <td>540</td>\n",
              "      <td>756</td>\n",
              "      <td>GasA</td>\n",
              "      <td>Gd</td>\n",
              "      <td>Y</td>\n",
              "      <td>SBrkr</td>\n",
              "      <td>961</td>\n",
              "      <td>756</td>\n",
              "      <td>0</td>\n",
              "      <td>1717</td>\n",
              "      <td>1</td>\n",
              "      <td>0</td>\n",
              "      <td>1</td>\n",
              "      <td>0</td>\n",
              "      <td>3</td>\n",
              "      <td>1</td>\n",
              "      <td>Gd</td>\n",
              "      <td>7</td>\n",
              "      <td>Typ</td>\n",
              "      <td>1</td>\n",
              "      <td>Gd</td>\n",
              "      <td>Detchd</td>\n",
              "      <td>1998.0</td>\n",
              "      <td>Unf</td>\n",
              "      <td>3</td>\n",
              "      <td>642</td>\n",
              "      <td>TA</td>\n",
              "      <td>TA</td>\n",
              "      <td>Y</td>\n",
              "      <td>0</td>\n",
              "      <td>35</td>\n",
              "      <td>272</td>\n",
              "      <td>0</td>\n",
              "      <td>0</td>\n",
              "      <td>0</td>\n",
              "      <td>NaN</td>\n",
              "      <td>NaN</td>\n",
              "      <td>NaN</td>\n",
              "      <td>0</td>\n",
              "      <td>2</td>\n",
              "      <td>2006</td>\n",
              "      <td>WD</td>\n",
              "      <td>Abnorml</td>\n",
              "      <td>140000</td>\n",
              "    </tr>\n",
              "    <tr>\n",
              "      <th>4</th>\n",
              "      <td>5</td>\n",
              "      <td>60</td>\n",
              "      <td>RL</td>\n",
              "      <td>84.0</td>\n",
              "      <td>14260</td>\n",
              "      <td>Pave</td>\n",
              "      <td>NaN</td>\n",
              "      <td>IR1</td>\n",
              "      <td>Lvl</td>\n",
              "      <td>AllPub</td>\n",
              "      <td>FR2</td>\n",
              "      <td>Gtl</td>\n",
              "      <td>NoRidge</td>\n",
              "      <td>Norm</td>\n",
              "      <td>Norm</td>\n",
              "      <td>1Fam</td>\n",
              "      <td>2Story</td>\n",
              "      <td>8</td>\n",
              "      <td>5</td>\n",
              "      <td>2000</td>\n",
              "      <td>2000</td>\n",
              "      <td>Gable</td>\n",
              "      <td>CompShg</td>\n",
              "      <td>VinylSd</td>\n",
              "      <td>VinylSd</td>\n",
              "      <td>BrkFace</td>\n",
              "      <td>350.0</td>\n",
              "      <td>Gd</td>\n",
              "      <td>TA</td>\n",
              "      <td>PConc</td>\n",
              "      <td>Gd</td>\n",
              "      <td>TA</td>\n",
              "      <td>Av</td>\n",
              "      <td>GLQ</td>\n",
              "      <td>655</td>\n",
              "      <td>Unf</td>\n",
              "      <td>0</td>\n",
              "      <td>490</td>\n",
              "      <td>1145</td>\n",
              "      <td>GasA</td>\n",
              "      <td>Ex</td>\n",
              "      <td>Y</td>\n",
              "      <td>SBrkr</td>\n",
              "      <td>1145</td>\n",
              "      <td>1053</td>\n",
              "      <td>0</td>\n",
              "      <td>2198</td>\n",
              "      <td>1</td>\n",
              "      <td>0</td>\n",
              "      <td>2</td>\n",
              "      <td>1</td>\n",
              "      <td>4</td>\n",
              "      <td>1</td>\n",
              "      <td>Gd</td>\n",
              "      <td>9</td>\n",
              "      <td>Typ</td>\n",
              "      <td>1</td>\n",
              "      <td>TA</td>\n",
              "      <td>Attchd</td>\n",
              "      <td>2000.0</td>\n",
              "      <td>RFn</td>\n",
              "      <td>3</td>\n",
              "      <td>836</td>\n",
              "      <td>TA</td>\n",
              "      <td>TA</td>\n",
              "      <td>Y</td>\n",
              "      <td>192</td>\n",
              "      <td>84</td>\n",
              "      <td>0</td>\n",
              "      <td>0</td>\n",
              "      <td>0</td>\n",
              "      <td>0</td>\n",
              "      <td>NaN</td>\n",
              "      <td>NaN</td>\n",
              "      <td>NaN</td>\n",
              "      <td>0</td>\n",
              "      <td>12</td>\n",
              "      <td>2008</td>\n",
              "      <td>WD</td>\n",
              "      <td>Normal</td>\n",
              "      <td>250000</td>\n",
              "    </tr>\n",
              "    <tr>\n",
              "      <th>...</th>\n",
              "      <td>...</td>\n",
              "      <td>...</td>\n",
              "      <td>...</td>\n",
              "      <td>...</td>\n",
              "      <td>...</td>\n",
              "      <td>...</td>\n",
              "      <td>...</td>\n",
              "      <td>...</td>\n",
              "      <td>...</td>\n",
              "      <td>...</td>\n",
              "      <td>...</td>\n",
              "      <td>...</td>\n",
              "      <td>...</td>\n",
              "      <td>...</td>\n",
              "      <td>...</td>\n",
              "      <td>...</td>\n",
              "      <td>...</td>\n",
              "      <td>...</td>\n",
              "      <td>...</td>\n",
              "      <td>...</td>\n",
              "      <td>...</td>\n",
              "      <td>...</td>\n",
              "      <td>...</td>\n",
              "      <td>...</td>\n",
              "      <td>...</td>\n",
              "      <td>...</td>\n",
              "      <td>...</td>\n",
              "      <td>...</td>\n",
              "      <td>...</td>\n",
              "      <td>...</td>\n",
              "      <td>...</td>\n",
              "      <td>...</td>\n",
              "      <td>...</td>\n",
              "      <td>...</td>\n",
              "      <td>...</td>\n",
              "      <td>...</td>\n",
              "      <td>...</td>\n",
              "      <td>...</td>\n",
              "      <td>...</td>\n",
              "      <td>...</td>\n",
              "      <td>...</td>\n",
              "      <td>...</td>\n",
              "      <td>...</td>\n",
              "      <td>...</td>\n",
              "      <td>...</td>\n",
              "      <td>...</td>\n",
              "      <td>...</td>\n",
              "      <td>...</td>\n",
              "      <td>...</td>\n",
              "      <td>...</td>\n",
              "      <td>...</td>\n",
              "      <td>...</td>\n",
              "      <td>...</td>\n",
              "      <td>...</td>\n",
              "      <td>...</td>\n",
              "      <td>...</td>\n",
              "      <td>...</td>\n",
              "      <td>...</td>\n",
              "      <td>...</td>\n",
              "      <td>...</td>\n",
              "      <td>...</td>\n",
              "      <td>...</td>\n",
              "      <td>...</td>\n",
              "      <td>...</td>\n",
              "      <td>...</td>\n",
              "      <td>...</td>\n",
              "      <td>...</td>\n",
              "      <td>...</td>\n",
              "      <td>...</td>\n",
              "      <td>...</td>\n",
              "      <td>...</td>\n",
              "      <td>...</td>\n",
              "      <td>...</td>\n",
              "      <td>...</td>\n",
              "      <td>...</td>\n",
              "      <td>...</td>\n",
              "      <td>...</td>\n",
              "      <td>...</td>\n",
              "      <td>...</td>\n",
              "      <td>...</td>\n",
              "      <td>...</td>\n",
              "    </tr>\n",
              "    <tr>\n",
              "      <th>1455</th>\n",
              "      <td>1456</td>\n",
              "      <td>60</td>\n",
              "      <td>RL</td>\n",
              "      <td>62.0</td>\n",
              "      <td>7917</td>\n",
              "      <td>Pave</td>\n",
              "      <td>NaN</td>\n",
              "      <td>Reg</td>\n",
              "      <td>Lvl</td>\n",
              "      <td>AllPub</td>\n",
              "      <td>Inside</td>\n",
              "      <td>Gtl</td>\n",
              "      <td>Gilbert</td>\n",
              "      <td>Norm</td>\n",
              "      <td>Norm</td>\n",
              "      <td>1Fam</td>\n",
              "      <td>2Story</td>\n",
              "      <td>6</td>\n",
              "      <td>5</td>\n",
              "      <td>1999</td>\n",
              "      <td>2000</td>\n",
              "      <td>Gable</td>\n",
              "      <td>CompShg</td>\n",
              "      <td>VinylSd</td>\n",
              "      <td>VinylSd</td>\n",
              "      <td>None</td>\n",
              "      <td>0.0</td>\n",
              "      <td>TA</td>\n",
              "      <td>TA</td>\n",
              "      <td>PConc</td>\n",
              "      <td>Gd</td>\n",
              "      <td>TA</td>\n",
              "      <td>No</td>\n",
              "      <td>Unf</td>\n",
              "      <td>0</td>\n",
              "      <td>Unf</td>\n",
              "      <td>0</td>\n",
              "      <td>953</td>\n",
              "      <td>953</td>\n",
              "      <td>GasA</td>\n",
              "      <td>Ex</td>\n",
              "      <td>Y</td>\n",
              "      <td>SBrkr</td>\n",
              "      <td>953</td>\n",
              "      <td>694</td>\n",
              "      <td>0</td>\n",
              "      <td>1647</td>\n",
              "      <td>0</td>\n",
              "      <td>0</td>\n",
              "      <td>2</td>\n",
              "      <td>1</td>\n",
              "      <td>3</td>\n",
              "      <td>1</td>\n",
              "      <td>TA</td>\n",
              "      <td>7</td>\n",
              "      <td>Typ</td>\n",
              "      <td>1</td>\n",
              "      <td>TA</td>\n",
              "      <td>Attchd</td>\n",
              "      <td>1999.0</td>\n",
              "      <td>RFn</td>\n",
              "      <td>2</td>\n",
              "      <td>460</td>\n",
              "      <td>TA</td>\n",
              "      <td>TA</td>\n",
              "      <td>Y</td>\n",
              "      <td>0</td>\n",
              "      <td>40</td>\n",
              "      <td>0</td>\n",
              "      <td>0</td>\n",
              "      <td>0</td>\n",
              "      <td>0</td>\n",
              "      <td>NaN</td>\n",
              "      <td>NaN</td>\n",
              "      <td>NaN</td>\n",
              "      <td>0</td>\n",
              "      <td>8</td>\n",
              "      <td>2007</td>\n",
              "      <td>WD</td>\n",
              "      <td>Normal</td>\n",
              "      <td>175000</td>\n",
              "    </tr>\n",
              "    <tr>\n",
              "      <th>1456</th>\n",
              "      <td>1457</td>\n",
              "      <td>20</td>\n",
              "      <td>RL</td>\n",
              "      <td>85.0</td>\n",
              "      <td>13175</td>\n",
              "      <td>Pave</td>\n",
              "      <td>NaN</td>\n",
              "      <td>Reg</td>\n",
              "      <td>Lvl</td>\n",
              "      <td>AllPub</td>\n",
              "      <td>Inside</td>\n",
              "      <td>Gtl</td>\n",
              "      <td>NWAmes</td>\n",
              "      <td>Norm</td>\n",
              "      <td>Norm</td>\n",
              "      <td>1Fam</td>\n",
              "      <td>1Story</td>\n",
              "      <td>6</td>\n",
              "      <td>6</td>\n",
              "      <td>1978</td>\n",
              "      <td>1988</td>\n",
              "      <td>Gable</td>\n",
              "      <td>CompShg</td>\n",
              "      <td>Plywood</td>\n",
              "      <td>Plywood</td>\n",
              "      <td>Stone</td>\n",
              "      <td>119.0</td>\n",
              "      <td>TA</td>\n",
              "      <td>TA</td>\n",
              "      <td>CBlock</td>\n",
              "      <td>Gd</td>\n",
              "      <td>TA</td>\n",
              "      <td>No</td>\n",
              "      <td>ALQ</td>\n",
              "      <td>790</td>\n",
              "      <td>Rec</td>\n",
              "      <td>163</td>\n",
              "      <td>589</td>\n",
              "      <td>1542</td>\n",
              "      <td>GasA</td>\n",
              "      <td>TA</td>\n",
              "      <td>Y</td>\n",
              "      <td>SBrkr</td>\n",
              "      <td>2073</td>\n",
              "      <td>0</td>\n",
              "      <td>0</td>\n",
              "      <td>2073</td>\n",
              "      <td>1</td>\n",
              "      <td>0</td>\n",
              "      <td>2</td>\n",
              "      <td>0</td>\n",
              "      <td>3</td>\n",
              "      <td>1</td>\n",
              "      <td>TA</td>\n",
              "      <td>7</td>\n",
              "      <td>Min1</td>\n",
              "      <td>2</td>\n",
              "      <td>TA</td>\n",
              "      <td>Attchd</td>\n",
              "      <td>1978.0</td>\n",
              "      <td>Unf</td>\n",
              "      <td>2</td>\n",
              "      <td>500</td>\n",
              "      <td>TA</td>\n",
              "      <td>TA</td>\n",
              "      <td>Y</td>\n",
              "      <td>349</td>\n",
              "      <td>0</td>\n",
              "      <td>0</td>\n",
              "      <td>0</td>\n",
              "      <td>0</td>\n",
              "      <td>0</td>\n",
              "      <td>NaN</td>\n",
              "      <td>MnPrv</td>\n",
              "      <td>NaN</td>\n",
              "      <td>0</td>\n",
              "      <td>2</td>\n",
              "      <td>2010</td>\n",
              "      <td>WD</td>\n",
              "      <td>Normal</td>\n",
              "      <td>210000</td>\n",
              "    </tr>\n",
              "    <tr>\n",
              "      <th>1457</th>\n",
              "      <td>1458</td>\n",
              "      <td>70</td>\n",
              "      <td>RL</td>\n",
              "      <td>66.0</td>\n",
              "      <td>9042</td>\n",
              "      <td>Pave</td>\n",
              "      <td>NaN</td>\n",
              "      <td>Reg</td>\n",
              "      <td>Lvl</td>\n",
              "      <td>AllPub</td>\n",
              "      <td>Inside</td>\n",
              "      <td>Gtl</td>\n",
              "      <td>Crawfor</td>\n",
              "      <td>Norm</td>\n",
              "      <td>Norm</td>\n",
              "      <td>1Fam</td>\n",
              "      <td>2Story</td>\n",
              "      <td>7</td>\n",
              "      <td>9</td>\n",
              "      <td>1941</td>\n",
              "      <td>2006</td>\n",
              "      <td>Gable</td>\n",
              "      <td>CompShg</td>\n",
              "      <td>CemntBd</td>\n",
              "      <td>CmentBd</td>\n",
              "      <td>None</td>\n",
              "      <td>0.0</td>\n",
              "      <td>Ex</td>\n",
              "      <td>Gd</td>\n",
              "      <td>Stone</td>\n",
              "      <td>TA</td>\n",
              "      <td>Gd</td>\n",
              "      <td>No</td>\n",
              "      <td>GLQ</td>\n",
              "      <td>275</td>\n",
              "      <td>Unf</td>\n",
              "      <td>0</td>\n",
              "      <td>877</td>\n",
              "      <td>1152</td>\n",
              "      <td>GasA</td>\n",
              "      <td>Ex</td>\n",
              "      <td>Y</td>\n",
              "      <td>SBrkr</td>\n",
              "      <td>1188</td>\n",
              "      <td>1152</td>\n",
              "      <td>0</td>\n",
              "      <td>2340</td>\n",
              "      <td>0</td>\n",
              "      <td>0</td>\n",
              "      <td>2</td>\n",
              "      <td>0</td>\n",
              "      <td>4</td>\n",
              "      <td>1</td>\n",
              "      <td>Gd</td>\n",
              "      <td>9</td>\n",
              "      <td>Typ</td>\n",
              "      <td>2</td>\n",
              "      <td>Gd</td>\n",
              "      <td>Attchd</td>\n",
              "      <td>1941.0</td>\n",
              "      <td>RFn</td>\n",
              "      <td>1</td>\n",
              "      <td>252</td>\n",
              "      <td>TA</td>\n",
              "      <td>TA</td>\n",
              "      <td>Y</td>\n",
              "      <td>0</td>\n",
              "      <td>60</td>\n",
              "      <td>0</td>\n",
              "      <td>0</td>\n",
              "      <td>0</td>\n",
              "      <td>0</td>\n",
              "      <td>NaN</td>\n",
              "      <td>GdPrv</td>\n",
              "      <td>Shed</td>\n",
              "      <td>2500</td>\n",
              "      <td>5</td>\n",
              "      <td>2010</td>\n",
              "      <td>WD</td>\n",
              "      <td>Normal</td>\n",
              "      <td>266500</td>\n",
              "    </tr>\n",
              "    <tr>\n",
              "      <th>1458</th>\n",
              "      <td>1459</td>\n",
              "      <td>20</td>\n",
              "      <td>RL</td>\n",
              "      <td>68.0</td>\n",
              "      <td>9717</td>\n",
              "      <td>Pave</td>\n",
              "      <td>NaN</td>\n",
              "      <td>Reg</td>\n",
              "      <td>Lvl</td>\n",
              "      <td>AllPub</td>\n",
              "      <td>Inside</td>\n",
              "      <td>Gtl</td>\n",
              "      <td>NAmes</td>\n",
              "      <td>Norm</td>\n",
              "      <td>Norm</td>\n",
              "      <td>1Fam</td>\n",
              "      <td>1Story</td>\n",
              "      <td>5</td>\n",
              "      <td>6</td>\n",
              "      <td>1950</td>\n",
              "      <td>1996</td>\n",
              "      <td>Hip</td>\n",
              "      <td>CompShg</td>\n",
              "      <td>MetalSd</td>\n",
              "      <td>MetalSd</td>\n",
              "      <td>None</td>\n",
              "      <td>0.0</td>\n",
              "      <td>TA</td>\n",
              "      <td>TA</td>\n",
              "      <td>CBlock</td>\n",
              "      <td>TA</td>\n",
              "      <td>TA</td>\n",
              "      <td>Mn</td>\n",
              "      <td>GLQ</td>\n",
              "      <td>49</td>\n",
              "      <td>Rec</td>\n",
              "      <td>1029</td>\n",
              "      <td>0</td>\n",
              "      <td>1078</td>\n",
              "      <td>GasA</td>\n",
              "      <td>Gd</td>\n",
              "      <td>Y</td>\n",
              "      <td>FuseA</td>\n",
              "      <td>1078</td>\n",
              "      <td>0</td>\n",
              "      <td>0</td>\n",
              "      <td>1078</td>\n",
              "      <td>1</td>\n",
              "      <td>0</td>\n",
              "      <td>1</td>\n",
              "      <td>0</td>\n",
              "      <td>2</td>\n",
              "      <td>1</td>\n",
              "      <td>Gd</td>\n",
              "      <td>5</td>\n",
              "      <td>Typ</td>\n",
              "      <td>0</td>\n",
              "      <td>NaN</td>\n",
              "      <td>Attchd</td>\n",
              "      <td>1950.0</td>\n",
              "      <td>Unf</td>\n",
              "      <td>1</td>\n",
              "      <td>240</td>\n",
              "      <td>TA</td>\n",
              "      <td>TA</td>\n",
              "      <td>Y</td>\n",
              "      <td>366</td>\n",
              "      <td>0</td>\n",
              "      <td>112</td>\n",
              "      <td>0</td>\n",
              "      <td>0</td>\n",
              "      <td>0</td>\n",
              "      <td>NaN</td>\n",
              "      <td>NaN</td>\n",
              "      <td>NaN</td>\n",
              "      <td>0</td>\n",
              "      <td>4</td>\n",
              "      <td>2010</td>\n",
              "      <td>WD</td>\n",
              "      <td>Normal</td>\n",
              "      <td>142125</td>\n",
              "    </tr>\n",
              "    <tr>\n",
              "      <th>1459</th>\n",
              "      <td>1460</td>\n",
              "      <td>20</td>\n",
              "      <td>RL</td>\n",
              "      <td>75.0</td>\n",
              "      <td>9937</td>\n",
              "      <td>Pave</td>\n",
              "      <td>NaN</td>\n",
              "      <td>Reg</td>\n",
              "      <td>Lvl</td>\n",
              "      <td>AllPub</td>\n",
              "      <td>Inside</td>\n",
              "      <td>Gtl</td>\n",
              "      <td>Edwards</td>\n",
              "      <td>Norm</td>\n",
              "      <td>Norm</td>\n",
              "      <td>1Fam</td>\n",
              "      <td>1Story</td>\n",
              "      <td>5</td>\n",
              "      <td>6</td>\n",
              "      <td>1965</td>\n",
              "      <td>1965</td>\n",
              "      <td>Gable</td>\n",
              "      <td>CompShg</td>\n",
              "      <td>HdBoard</td>\n",
              "      <td>HdBoard</td>\n",
              "      <td>None</td>\n",
              "      <td>0.0</td>\n",
              "      <td>Gd</td>\n",
              "      <td>TA</td>\n",
              "      <td>CBlock</td>\n",
              "      <td>TA</td>\n",
              "      <td>TA</td>\n",
              "      <td>No</td>\n",
              "      <td>BLQ</td>\n",
              "      <td>830</td>\n",
              "      <td>LwQ</td>\n",
              "      <td>290</td>\n",
              "      <td>136</td>\n",
              "      <td>1256</td>\n",
              "      <td>GasA</td>\n",
              "      <td>Gd</td>\n",
              "      <td>Y</td>\n",
              "      <td>SBrkr</td>\n",
              "      <td>1256</td>\n",
              "      <td>0</td>\n",
              "      <td>0</td>\n",
              "      <td>1256</td>\n",
              "      <td>1</td>\n",
              "      <td>0</td>\n",
              "      <td>1</td>\n",
              "      <td>1</td>\n",
              "      <td>3</td>\n",
              "      <td>1</td>\n",
              "      <td>TA</td>\n",
              "      <td>6</td>\n",
              "      <td>Typ</td>\n",
              "      <td>0</td>\n",
              "      <td>NaN</td>\n",
              "      <td>Attchd</td>\n",
              "      <td>1965.0</td>\n",
              "      <td>Fin</td>\n",
              "      <td>1</td>\n",
              "      <td>276</td>\n",
              "      <td>TA</td>\n",
              "      <td>TA</td>\n",
              "      <td>Y</td>\n",
              "      <td>736</td>\n",
              "      <td>68</td>\n",
              "      <td>0</td>\n",
              "      <td>0</td>\n",
              "      <td>0</td>\n",
              "      <td>0</td>\n",
              "      <td>NaN</td>\n",
              "      <td>NaN</td>\n",
              "      <td>NaN</td>\n",
              "      <td>0</td>\n",
              "      <td>6</td>\n",
              "      <td>2008</td>\n",
              "      <td>WD</td>\n",
              "      <td>Normal</td>\n",
              "      <td>147500</td>\n",
              "    </tr>\n",
              "  </tbody>\n",
              "</table>\n",
              "<p>1460 rows × 81 columns</p>\n",
              "</div>"
            ],
            "text/plain": [
              "        Id  MSSubClass MSZoning  LotFrontage  LotArea Street Alley LotShape  \\\n",
              "0        1          60       RL         65.0     8450   Pave   NaN      Reg   \n",
              "1        2          20       RL         80.0     9600   Pave   NaN      Reg   \n",
              "2        3          60       RL         68.0    11250   Pave   NaN      IR1   \n",
              "3        4          70       RL         60.0     9550   Pave   NaN      IR1   \n",
              "4        5          60       RL         84.0    14260   Pave   NaN      IR1   \n",
              "...    ...         ...      ...          ...      ...    ...   ...      ...   \n",
              "1455  1456          60       RL         62.0     7917   Pave   NaN      Reg   \n",
              "1456  1457          20       RL         85.0    13175   Pave   NaN      Reg   \n",
              "1457  1458          70       RL         66.0     9042   Pave   NaN      Reg   \n",
              "1458  1459          20       RL         68.0     9717   Pave   NaN      Reg   \n",
              "1459  1460          20       RL         75.0     9937   Pave   NaN      Reg   \n",
              "\n",
              "     LandContour Utilities LotConfig LandSlope Neighborhood Condition1  \\\n",
              "0            Lvl    AllPub    Inside       Gtl      CollgCr       Norm   \n",
              "1            Lvl    AllPub       FR2       Gtl      Veenker      Feedr   \n",
              "2            Lvl    AllPub    Inside       Gtl      CollgCr       Norm   \n",
              "3            Lvl    AllPub    Corner       Gtl      Crawfor       Norm   \n",
              "4            Lvl    AllPub       FR2       Gtl      NoRidge       Norm   \n",
              "...          ...       ...       ...       ...          ...        ...   \n",
              "1455         Lvl    AllPub    Inside       Gtl      Gilbert       Norm   \n",
              "1456         Lvl    AllPub    Inside       Gtl       NWAmes       Norm   \n",
              "1457         Lvl    AllPub    Inside       Gtl      Crawfor       Norm   \n",
              "1458         Lvl    AllPub    Inside       Gtl        NAmes       Norm   \n",
              "1459         Lvl    AllPub    Inside       Gtl      Edwards       Norm   \n",
              "\n",
              "     Condition2 BldgType HouseStyle  OverallQual  OverallCond  YearBuilt  \\\n",
              "0          Norm     1Fam     2Story            7            5       2003   \n",
              "1          Norm     1Fam     1Story            6            8       1976   \n",
              "2          Norm     1Fam     2Story            7            5       2001   \n",
              "3          Norm     1Fam     2Story            7            5       1915   \n",
              "4          Norm     1Fam     2Story            8            5       2000   \n",
              "...         ...      ...        ...          ...          ...        ...   \n",
              "1455       Norm     1Fam     2Story            6            5       1999   \n",
              "1456       Norm     1Fam     1Story            6            6       1978   \n",
              "1457       Norm     1Fam     2Story            7            9       1941   \n",
              "1458       Norm     1Fam     1Story            5            6       1950   \n",
              "1459       Norm     1Fam     1Story            5            6       1965   \n",
              "\n",
              "      YearRemodAdd RoofStyle RoofMatl Exterior1st Exterior2nd MasVnrType  \\\n",
              "0             2003     Gable  CompShg     VinylSd     VinylSd    BrkFace   \n",
              "1             1976     Gable  CompShg     MetalSd     MetalSd       None   \n",
              "2             2002     Gable  CompShg     VinylSd     VinylSd    BrkFace   \n",
              "3             1970     Gable  CompShg     Wd Sdng     Wd Shng       None   \n",
              "4             2000     Gable  CompShg     VinylSd     VinylSd    BrkFace   \n",
              "...            ...       ...      ...         ...         ...        ...   \n",
              "1455          2000     Gable  CompShg     VinylSd     VinylSd       None   \n",
              "1456          1988     Gable  CompShg     Plywood     Plywood      Stone   \n",
              "1457          2006     Gable  CompShg     CemntBd     CmentBd       None   \n",
              "1458          1996       Hip  CompShg     MetalSd     MetalSd       None   \n",
              "1459          1965     Gable  CompShg     HdBoard     HdBoard       None   \n",
              "\n",
              "      MasVnrArea ExterQual ExterCond Foundation BsmtQual BsmtCond  \\\n",
              "0          196.0        Gd        TA      PConc       Gd       TA   \n",
              "1            0.0        TA        TA     CBlock       Gd       TA   \n",
              "2          162.0        Gd        TA      PConc       Gd       TA   \n",
              "3            0.0        TA        TA     BrkTil       TA       Gd   \n",
              "4          350.0        Gd        TA      PConc       Gd       TA   \n",
              "...          ...       ...       ...        ...      ...      ...   \n",
              "1455         0.0        TA        TA      PConc       Gd       TA   \n",
              "1456       119.0        TA        TA     CBlock       Gd       TA   \n",
              "1457         0.0        Ex        Gd      Stone       TA       Gd   \n",
              "1458         0.0        TA        TA     CBlock       TA       TA   \n",
              "1459         0.0        Gd        TA     CBlock       TA       TA   \n",
              "\n",
              "     BsmtExposure BsmtFinType1  BsmtFinSF1 BsmtFinType2  BsmtFinSF2  \\\n",
              "0              No          GLQ         706          Unf           0   \n",
              "1              Gd          ALQ         978          Unf           0   \n",
              "2              Mn          GLQ         486          Unf           0   \n",
              "3              No          ALQ         216          Unf           0   \n",
              "4              Av          GLQ         655          Unf           0   \n",
              "...           ...          ...         ...          ...         ...   \n",
              "1455           No          Unf           0          Unf           0   \n",
              "1456           No          ALQ         790          Rec         163   \n",
              "1457           No          GLQ         275          Unf           0   \n",
              "1458           Mn          GLQ          49          Rec        1029   \n",
              "1459           No          BLQ         830          LwQ         290   \n",
              "\n",
              "      BsmtUnfSF  TotalBsmtSF Heating HeatingQC CentralAir Electrical  \\\n",
              "0           150          856    GasA        Ex          Y      SBrkr   \n",
              "1           284         1262    GasA        Ex          Y      SBrkr   \n",
              "2           434          920    GasA        Ex          Y      SBrkr   \n",
              "3           540          756    GasA        Gd          Y      SBrkr   \n",
              "4           490         1145    GasA        Ex          Y      SBrkr   \n",
              "...         ...          ...     ...       ...        ...        ...   \n",
              "1455        953          953    GasA        Ex          Y      SBrkr   \n",
              "1456        589         1542    GasA        TA          Y      SBrkr   \n",
              "1457        877         1152    GasA        Ex          Y      SBrkr   \n",
              "1458          0         1078    GasA        Gd          Y      FuseA   \n",
              "1459        136         1256    GasA        Gd          Y      SBrkr   \n",
              "\n",
              "      1stFlrSF  2ndFlrSF  LowQualFinSF  GrLivArea  BsmtFullBath  BsmtHalfBath  \\\n",
              "0          856       854             0       1710             1             0   \n",
              "1         1262         0             0       1262             0             1   \n",
              "2          920       866             0       1786             1             0   \n",
              "3          961       756             0       1717             1             0   \n",
              "4         1145      1053             0       2198             1             0   \n",
              "...        ...       ...           ...        ...           ...           ...   \n",
              "1455       953       694             0       1647             0             0   \n",
              "1456      2073         0             0       2073             1             0   \n",
              "1457      1188      1152             0       2340             0             0   \n",
              "1458      1078         0             0       1078             1             0   \n",
              "1459      1256         0             0       1256             1             0   \n",
              "\n",
              "      FullBath  HalfBath  BedroomAbvGr  KitchenAbvGr KitchenQual  \\\n",
              "0            2         1             3             1          Gd   \n",
              "1            2         0             3             1          TA   \n",
              "2            2         1             3             1          Gd   \n",
              "3            1         0             3             1          Gd   \n",
              "4            2         1             4             1          Gd   \n",
              "...        ...       ...           ...           ...         ...   \n",
              "1455         2         1             3             1          TA   \n",
              "1456         2         0             3             1          TA   \n",
              "1457         2         0             4             1          Gd   \n",
              "1458         1         0             2             1          Gd   \n",
              "1459         1         1             3             1          TA   \n",
              "\n",
              "      TotRmsAbvGrd Functional  Fireplaces FireplaceQu GarageType  GarageYrBlt  \\\n",
              "0                8        Typ           0         NaN     Attchd       2003.0   \n",
              "1                6        Typ           1          TA     Attchd       1976.0   \n",
              "2                6        Typ           1          TA     Attchd       2001.0   \n",
              "3                7        Typ           1          Gd     Detchd       1998.0   \n",
              "4                9        Typ           1          TA     Attchd       2000.0   \n",
              "...            ...        ...         ...         ...        ...          ...   \n",
              "1455             7        Typ           1          TA     Attchd       1999.0   \n",
              "1456             7       Min1           2          TA     Attchd       1978.0   \n",
              "1457             9        Typ           2          Gd     Attchd       1941.0   \n",
              "1458             5        Typ           0         NaN     Attchd       1950.0   \n",
              "1459             6        Typ           0         NaN     Attchd       1965.0   \n",
              "\n",
              "     GarageFinish  GarageCars  GarageArea GarageQual GarageCond PavedDrive  \\\n",
              "0             RFn           2         548         TA         TA          Y   \n",
              "1             RFn           2         460         TA         TA          Y   \n",
              "2             RFn           2         608         TA         TA          Y   \n",
              "3             Unf           3         642         TA         TA          Y   \n",
              "4             RFn           3         836         TA         TA          Y   \n",
              "...           ...         ...         ...        ...        ...        ...   \n",
              "1455          RFn           2         460         TA         TA          Y   \n",
              "1456          Unf           2         500         TA         TA          Y   \n",
              "1457          RFn           1         252         TA         TA          Y   \n",
              "1458          Unf           1         240         TA         TA          Y   \n",
              "1459          Fin           1         276         TA         TA          Y   \n",
              "\n",
              "      WoodDeckSF  OpenPorchSF  EnclosedPorch  3SsnPorch  ScreenPorch  \\\n",
              "0              0           61              0          0            0   \n",
              "1            298            0              0          0            0   \n",
              "2              0           42              0          0            0   \n",
              "3              0           35            272          0            0   \n",
              "4            192           84              0          0            0   \n",
              "...          ...          ...            ...        ...          ...   \n",
              "1455           0           40              0          0            0   \n",
              "1456         349            0              0          0            0   \n",
              "1457           0           60              0          0            0   \n",
              "1458         366            0            112          0            0   \n",
              "1459         736           68              0          0            0   \n",
              "\n",
              "      PoolArea PoolQC  Fence MiscFeature  MiscVal  MoSold  YrSold SaleType  \\\n",
              "0            0    NaN    NaN         NaN        0       2    2008       WD   \n",
              "1            0    NaN    NaN         NaN        0       5    2007       WD   \n",
              "2            0    NaN    NaN         NaN        0       9    2008       WD   \n",
              "3            0    NaN    NaN         NaN        0       2    2006       WD   \n",
              "4            0    NaN    NaN         NaN        0      12    2008       WD   \n",
              "...        ...    ...    ...         ...      ...     ...     ...      ...   \n",
              "1455         0    NaN    NaN         NaN        0       8    2007       WD   \n",
              "1456         0    NaN  MnPrv         NaN        0       2    2010       WD   \n",
              "1457         0    NaN  GdPrv        Shed     2500       5    2010       WD   \n",
              "1458         0    NaN    NaN         NaN        0       4    2010       WD   \n",
              "1459         0    NaN    NaN         NaN        0       6    2008       WD   \n",
              "\n",
              "     SaleCondition  SalePrice  \n",
              "0           Normal     208500  \n",
              "1           Normal     181500  \n",
              "2           Normal     223500  \n",
              "3          Abnorml     140000  \n",
              "4           Normal     250000  \n",
              "...            ...        ...  \n",
              "1455        Normal     175000  \n",
              "1456        Normal     210000  \n",
              "1457        Normal     266500  \n",
              "1458        Normal     142125  \n",
              "1459        Normal     147500  \n",
              "\n",
              "[1460 rows x 81 columns]"
            ]
          },
          "metadata": {}
        }
      ]
    },
    {
      "cell_type": "code",
      "metadata": {
        "id": "blA5Y2zl7Hh6"
      },
      "source": [
        "df.drop('Id',axis=1, inplace=True)"
      ],
      "execution_count": null,
      "outputs": []
    },
    {
      "cell_type": "code",
      "metadata": {
        "colab": {
          "base_uri": "https://localhost:8080/"
        },
        "id": "uFr2nUlF4VT6",
        "outputId": "8b1b4372-60ac-4140-c65c-938495dca793"
      },
      "source": [
        "X = df.drop(['SalePrice'],axis=1)\n",
        "Y = df['SalePrice']\n",
        "X.shape"
      ],
      "execution_count": null,
      "outputs": [
        {
          "output_type": "execute_result",
          "data": {
            "text/plain": [
              "(1460, 79)"
            ]
          },
          "metadata": {},
          "execution_count": 4
        }
      ]
    },
    {
      "cell_type": "code",
      "metadata": {
        "colab": {
          "base_uri": "https://localhost:8080/"
        },
        "id": "oMGt5rKl5tIT",
        "outputId": "5846184f-516a-4269-a3c8-cc1a189a76d6"
      },
      "source": [
        "x_train, x_test, y_train, y_test = train_test_split(X, Y, test_size=0.1, random_state=0)\n",
        "x_train.shape, x_test.shape"
      ],
      "execution_count": null,
      "outputs": [
        {
          "output_type": "execute_result",
          "data": {
            "text/plain": [
              "((1314, 79), (146, 79))"
            ]
          },
          "metadata": {},
          "execution_count": 5
        }
      ]
    },
    {
      "cell_type": "code",
      "metadata": {
        "colab": {
          "base_uri": "https://localhost:8080/"
        },
        "id": "01ifGbHXkUeQ",
        "outputId": "e18b931f-22b7-41de-80d4-c09f2f54a517"
      },
      "source": [
        "y_train"
      ],
      "execution_count": null,
      "outputs": [
        {
          "output_type": "execute_result",
          "data": {
            "text/plain": [
              "930     201000\n",
              "656     145500\n",
              "45      319900\n",
              "1348    215000\n",
              "55      180500\n",
              "         ...  \n",
              "763     337000\n",
              "835     128000\n",
              "1216    112000\n",
              "559     234000\n",
              "684     221000\n",
              "Name: SalePrice, Length: 1314, dtype: int64"
            ]
          },
          "metadata": {},
          "execution_count": 6
        }
      ]
    },
    {
      "cell_type": "code",
      "metadata": {
        "id": "fKG2_RTj7lLd"
      },
      "source": [
        "y_train = np.log(y_train)\n",
        "y_test = np.log(y_test)"
      ],
      "execution_count": null,
      "outputs": []
    },
    {
      "cell_type": "code",
      "metadata": {
        "colab": {
          "base_uri": "https://localhost:8080/"
        },
        "id": "F28lbiZIkZmJ",
        "outputId": "7f663ca8-2d20-4130-b7a1-83abb1b1186e"
      },
      "source": [
        "y_train"
      ],
      "execution_count": null,
      "outputs": [
        {
          "output_type": "execute_result",
          "data": {
            "text/plain": [
              "930     12.211060\n",
              "656     11.887931\n",
              "45      12.675764\n",
              "1348    12.278393\n",
              "55      12.103486\n",
              "          ...    \n",
              "763     12.727838\n",
              "835     11.759786\n",
              "1216    11.626254\n",
              "559     12.363076\n",
              "684     12.305918\n",
              "Name: SalePrice, Length: 1314, dtype: float64"
            ]
          },
          "metadata": {},
          "execution_count": 8
        }
      ]
    },
    {
      "cell_type": "code",
      "metadata": {
        "colab": {
          "base_uri": "https://localhost:8080/"
        },
        "id": "slNARYNs9116",
        "outputId": "7888012f-daba-45c3-f832-5d8f7fe2ff55"
      },
      "source": [
        "# seperate data based on type. Here Object type\n",
        "df_object = [col for col in df.select_dtypes(include=['object'])]\n",
        "df_object.append('MSSubClass')\n",
        "x_train[df_object] = x_train[df_object].astype('O')\n",
        "x_test[df_object] = x_test[df_object].astype('O')\n",
        "\n",
        "len(df_object)"
      ],
      "execution_count": null,
      "outputs": [
        {
          "output_type": "stream",
          "name": "stderr",
          "text": [
            "/usr/local/lib/python3.7/dist-packages/pandas/core/frame.py:3069: SettingWithCopyWarning: \n",
            "A value is trying to be set on a copy of a slice from a DataFrame.\n",
            "Try using .loc[row_indexer,col_indexer] = value instead\n",
            "\n",
            "See the caveats in the documentation: https://pandas.pydata.org/pandas-docs/stable/user_guide/indexing.html#returning-a-view-versus-a-copy\n",
            "  self[k1] = value[k2]\n"
          ]
        },
        {
          "output_type": "execute_result",
          "data": {
            "text/plain": [
              "44"
            ]
          },
          "metadata": {},
          "execution_count": 7
        }
      ]
    },
    {
      "cell_type": "code",
      "metadata": {
        "colab": {
          "base_uri": "https://localhost:8080/"
        },
        "id": "y0E3-YUEAYKW",
        "outputId": "82a6ea71-b203-4a6f-c154-f157a8d7a506"
      },
      "source": [
        "# Find columns that have missing value in categorical columns\n",
        "col_with_null = [col for col in df_object if x_train[col].isnull().sum() != 0]\n",
        "print(len(col_with_null))\n",
        "x_train[col_with_null].isnull().mean().sort_values(ascending=False)"
      ],
      "execution_count": null,
      "outputs": [
        {
          "output_type": "stream",
          "name": "stdout",
          "text": [
            "16\n"
          ]
        },
        {
          "output_type": "execute_result",
          "data": {
            "text/plain": [
              "PoolQC          0.995434\n",
              "MiscFeature     0.961187\n",
              "Alley           0.938356\n",
              "Fence           0.814307\n",
              "FireplaceQu     0.472603\n",
              "GarageCond      0.056317\n",
              "GarageQual      0.056317\n",
              "GarageFinish    0.056317\n",
              "GarageType      0.056317\n",
              "BsmtFinType2    0.025114\n",
              "BsmtExposure    0.025114\n",
              "BsmtFinType1    0.024353\n",
              "BsmtCond        0.024353\n",
              "BsmtQual        0.024353\n",
              "MasVnrType      0.004566\n",
              "Electrical      0.000761\n",
              "dtype: float64"
            ]
          },
          "metadata": {},
          "execution_count": 8
        }
      ]
    },
    {
      "cell_type": "code",
      "metadata": {
        "colab": {
          "base_uri": "https://localhost:8080/"
        },
        "id": "v0p5hy4pEXpm",
        "outputId": "530e3325-02c4-41e1-e82b-bd1f9f240e69"
      },
      "source": [
        "# divide column in which the missing values have more than 0.1 percent and filling them with missing string\n",
        "col_high_miss_value = [col for col in col_with_null if x_train[col].isnull().mean()>0.1]\n",
        "col_small_miss_value = [col for col in col_with_null if x_train[col].isnull().mean()<0.1]\n",
        "print(f'col_high_miss_value:{col_high_miss_value}')\n",
        "print()\n",
        "print(f'col_small_miss_value:{col_small_miss_value}')"
      ],
      "execution_count": null,
      "outputs": [
        {
          "output_type": "stream",
          "name": "stdout",
          "text": [
            "col_high_miss_value:['Alley', 'FireplaceQu', 'PoolQC', 'Fence', 'MiscFeature']\n",
            "\n",
            "col_small_miss_value:['MasVnrType', 'BsmtQual', 'BsmtCond', 'BsmtExposure', 'BsmtFinType1', 'BsmtFinType2', 'Electrical', 'GarageType', 'GarageFinish', 'GarageQual', 'GarageCond']\n"
          ]
        }
      ]
    },
    {
      "cell_type": "code",
      "metadata": {
        "colab": {
          "base_uri": "https://localhost:8080/"
        },
        "id": "Z8G_0CyMMziX",
        "outputId": "c81672e2-21b4-4186-a022-23f8e52ec058"
      },
      "source": [
        "x_train[col_high_miss_value] = x_train[col_high_miss_value].fillna('Missing')\n",
        "x_test[col_high_miss_value] = x_test[col_high_miss_value].fillna('Missing')\n",
        "x_train['Alley'].isnull().sum()"
      ],
      "execution_count": null,
      "outputs": [
        {
          "output_type": "stream",
          "name": "stderr",
          "text": [
            "/usr/local/lib/python3.7/dist-packages/pandas/core/frame.py:3069: SettingWithCopyWarning: \n",
            "A value is trying to be set on a copy of a slice from a DataFrame.\n",
            "Try using .loc[row_indexer,col_indexer] = value instead\n",
            "\n",
            "See the caveats in the documentation: https://pandas.pydata.org/pandas-docs/stable/user_guide/indexing.html#returning-a-view-versus-a-copy\n",
            "  self[k1] = value[k2]\n"
          ]
        },
        {
          "output_type": "execute_result",
          "data": {
            "text/plain": [
              "0"
            ]
          },
          "metadata": {},
          "execution_count": 12
        }
      ]
    },
    {
      "cell_type": "code",
      "metadata": {
        "colab": {
          "base_uri": "https://localhost:8080/"
        },
        "id": "Gmg2nVgEBASv",
        "outputId": "b35e6b4f-3baf-4252-ba2c-a0d3db9d7dc5"
      },
      "source": [
        "x_train['FireplaceQu'].isnull().sum()"
      ],
      "execution_count": null,
      "outputs": [
        {
          "output_type": "execute_result",
          "data": {
            "text/plain": [
              "0"
            ]
          },
          "metadata": {},
          "execution_count": 13
        }
      ]
    },
    {
      "cell_type": "code",
      "metadata": {
        "colab": {
          "base_uri": "https://localhost:8080/"
        },
        "id": "f16CjCEfGa9Q",
        "outputId": "f80420e1-afd2-4b74-ce81-e38c87d4d15d"
      },
      "source": [
        "# check whether columns are filled or not\n",
        "[col for col in col_high_miss_value if x_train[col].isnull().sum()>0]"
      ],
      "execution_count": null,
      "outputs": [
        {
          "output_type": "execute_result",
          "data": {
            "text/plain": [
              "[]"
            ]
          },
          "metadata": {},
          "execution_count": 14
        }
      ]
    },
    {
      "cell_type": "code",
      "metadata": {
        "colab": {
          "base_uri": "https://localhost:8080/"
        },
        "id": "NLFKR2vqPhjf",
        "outputId": "454ea781-43db-4ac6-92a0-eec2103a449e"
      },
      "source": [
        "# filling the missing data with the most frequent observation\n",
        "for col in col_small_miss_value:\n",
        "  \n",
        "  mode = x_train[col].mode()[0]\n",
        "  print(f'{col}: {mode}')\n",
        "  x_train[col] = x_train[col].fillna(mode)\n",
        "  x_test[col] = x_test[col].fillna(mode)"
      ],
      "execution_count": null,
      "outputs": [
        {
          "output_type": "stream",
          "name": "stderr",
          "text": [
            "/usr/local/lib/python3.7/dist-packages/ipykernel_launcher.py:6: SettingWithCopyWarning: \n",
            "A value is trying to be set on a copy of a slice from a DataFrame.\n",
            "Try using .loc[row_indexer,col_indexer] = value instead\n",
            "\n",
            "See the caveats in the documentation: https://pandas.pydata.org/pandas-docs/stable/user_guide/indexing.html#returning-a-view-versus-a-copy\n",
            "  \n",
            "/usr/local/lib/python3.7/dist-packages/ipykernel_launcher.py:7: SettingWithCopyWarning: \n",
            "A value is trying to be set on a copy of a slice from a DataFrame.\n",
            "Try using .loc[row_indexer,col_indexer] = value instead\n",
            "\n",
            "See the caveats in the documentation: https://pandas.pydata.org/pandas-docs/stable/user_guide/indexing.html#returning-a-view-versus-a-copy\n",
            "  import sys\n"
          ]
        },
        {
          "output_type": "stream",
          "name": "stdout",
          "text": [
            "MasVnrType: None\n",
            "BsmtQual: TA\n",
            "BsmtCond: TA\n",
            "BsmtExposure: No\n",
            "BsmtFinType1: Unf\n",
            "BsmtFinType2: Unf\n",
            "Electrical: SBrkr\n",
            "GarageType: Attchd\n",
            "GarageFinish: Unf\n",
            "GarageQual: TA\n",
            "GarageCond: TA\n"
          ]
        }
      ]
    },
    {
      "cell_type": "code",
      "metadata": {
        "colab": {
          "base_uri": "https://localhost:8080/"
        },
        "id": "aiZNxK_bl1BT",
        "outputId": "5f19cbbe-070a-47b0-ba2c-f5a0288d2842"
      },
      "source": [
        "x_train[col_with_null].isnull().sum()"
      ],
      "execution_count": null,
      "outputs": [
        {
          "output_type": "execute_result",
          "data": {
            "text/plain": [
              "Alley           0\n",
              "MasVnrType      0\n",
              "BsmtQual        0\n",
              "BsmtCond        0\n",
              "BsmtExposure    0\n",
              "BsmtFinType1    0\n",
              "BsmtFinType2    0\n",
              "Electrical      0\n",
              "FireplaceQu     0\n",
              "GarageType      0\n",
              "GarageFinish    0\n",
              "GarageQual      0\n",
              "GarageCond      0\n",
              "PoolQC          0\n",
              "Fence           0\n",
              "MiscFeature     0\n",
              "dtype: int64"
            ]
          },
          "metadata": {},
          "execution_count": 17
        }
      ]
    },
    {
      "cell_type": "code",
      "metadata": {
        "colab": {
          "base_uri": "https://localhost:8080/"
        },
        "id": "-aiUKotBmkkb",
        "outputId": "1b3e4ccf-bb62-427a-a7ad-886d95e91e20"
      },
      "source": [
        "[col for col in col_with_null if x_test[col].isnull().sum() > 0]"
      ],
      "execution_count": null,
      "outputs": [
        {
          "output_type": "execute_result",
          "data": {
            "text/plain": [
              "[]"
            ]
          },
          "metadata": {},
          "execution_count": 18
        }
      ]
    },
    {
      "cell_type": "code",
      "metadata": {
        "colab": {
          "base_uri": "https://localhost:8080/"
        },
        "id": "F3YUkHUupqqr",
        "outputId": "10fe1090-ea3b-43e7-d38c-aab7a3fb370a"
      },
      "source": [
        "#creating list for numerical features or columns\n",
        "df_numerical = [col for col in x_train.select_dtypes(include='number')]\n",
        "len(df_numerical)\n"
      ],
      "execution_count": null,
      "outputs": [
        {
          "output_type": "execute_result",
          "data": {
            "text/plain": [
              "35"
            ]
          },
          "metadata": {},
          "execution_count": 19
        }
      ]
    },
    {
      "cell_type": "code",
      "metadata": {
        "colab": {
          "base_uri": "https://localhost:8080/"
        },
        "id": "M_DD8aDAq3q2",
        "outputId": "778ed4c5-e24d-4569-9d07-f14c95d4144d"
      },
      "source": [
        "# columns with missing value in numerical data\n",
        "col_num_with_miss_val = [col for col in df_numerical if x_train[col].isnull().sum() > 0]\n",
        "len(col_num_with_miss_val)"
      ],
      "execution_count": null,
      "outputs": [
        {
          "output_type": "execute_result",
          "data": {
            "text/plain": [
              "3"
            ]
          },
          "metadata": {},
          "execution_count": 20
        }
      ]
    },
    {
      "cell_type": "code",
      "metadata": {
        "colab": {
          "base_uri": "https://localhost:8080/"
        },
        "id": "jLMpKFcasZ6T",
        "outputId": "5d7903a7-791d-44b7-a9ce-2cb94ca53da3"
      },
      "source": [
        "# replacing missing value with mean and adding new columns with 0 and 1 for column with missing value\n",
        "for col in col_num_with_miss_val:\n",
        "  mean_value = x_train[col].mean()\n",
        "\n",
        "  print(f'{col}: {mean_value}')\n",
        "\n",
        "  x_train[col + '_missval'] = np.where(x_train[col].isnull(), 1, 0)\n",
        "  x_test[col + '_missval'] = np.where(x_test[col].isnull(), 1, 0)\n",
        "\n",
        "  x_train[col].fillna(mean_value, inplace=True)\n",
        "  x_test[col].fillna(mean_value, inplace=True)\n",
        "\n",
        "x_train[col_num_with_miss_val].isnull().sum()\n"
      ],
      "execution_count": null,
      "outputs": [
        {
          "output_type": "stream",
          "name": "stdout",
          "text": [
            "LotFrontage: 69.87974098057354\n",
            "MasVnrArea: 103.7974006116208\n",
            "GarageYrBlt: 1978.2959677419356\n"
          ]
        },
        {
          "output_type": "stream",
          "name": "stderr",
          "text": [
            "/usr/local/lib/python3.7/dist-packages/ipykernel_launcher.py:7: SettingWithCopyWarning: \n",
            "A value is trying to be set on a copy of a slice from a DataFrame.\n",
            "Try using .loc[row_indexer,col_indexer] = value instead\n",
            "\n",
            "See the caveats in the documentation: https://pandas.pydata.org/pandas-docs/stable/user_guide/indexing.html#returning-a-view-versus-a-copy\n",
            "  import sys\n",
            "/usr/local/lib/python3.7/dist-packages/ipykernel_launcher.py:8: SettingWithCopyWarning: \n",
            "A value is trying to be set on a copy of a slice from a DataFrame.\n",
            "Try using .loc[row_indexer,col_indexer] = value instead\n",
            "\n",
            "See the caveats in the documentation: https://pandas.pydata.org/pandas-docs/stable/user_guide/indexing.html#returning-a-view-versus-a-copy\n",
            "  \n",
            "/usr/local/lib/python3.7/dist-packages/pandas/core/series.py:4536: SettingWithCopyWarning: \n",
            "A value is trying to be set on a copy of a slice from a DataFrame\n",
            "\n",
            "See the caveats in the documentation: https://pandas.pydata.org/pandas-docs/stable/user_guide/indexing.html#returning-a-view-versus-a-copy\n",
            "  downcast=downcast,\n"
          ]
        },
        {
          "output_type": "execute_result",
          "data": {
            "text/plain": [
              "LotFrontage    0\n",
              "MasVnrArea     0\n",
              "GarageYrBlt    0\n",
              "dtype: int64"
            ]
          },
          "metadata": {},
          "execution_count": 21
        }
      ]
    },
    {
      "cell_type": "code",
      "metadata": {
        "colab": {
          "base_uri": "https://localhost:8080/"
        },
        "id": "It8St90lu9du",
        "outputId": "cf84fc91-5fe4-4e08-f66b-3d1cd2a801a4"
      },
      "source": [
        "# check testset\n",
        "[col for col in col_num_with_miss_val if x_test[col].isnull().sum() > 0]"
      ],
      "execution_count": null,
      "outputs": [
        {
          "output_type": "execute_result",
          "data": {
            "text/plain": [
              "[]"
            ]
          },
          "metadata": {},
          "execution_count": 22
        }
      ]
    },
    {
      "cell_type": "code",
      "metadata": {
        "colab": {
          "base_uri": "https://localhost:8080/"
        },
        "id": "IJuhUb87vYql",
        "outputId": "6a968056-946f-49af-e7db-352e4b886395"
      },
      "source": [
        "miss_1_0_col = [col for col in x_train if '_missval' in col]\n",
        "miss_1_0_col"
      ],
      "execution_count": null,
      "outputs": [
        {
          "output_type": "execute_result",
          "data": {
            "text/plain": [
              "['LotFrontage_missval', 'MasVnrArea_missval', 'GarageYrBlt_missval']"
            ]
          },
          "metadata": {},
          "execution_count": 23
        }
      ]
    },
    {
      "cell_type": "code",
      "metadata": {
        "colab": {
          "base_uri": "https://localhost:8080/",
          "height": 363
        },
        "id": "WA19vna-wL8n",
        "outputId": "f2b91c76-7165-48e9-96de-882b1a28169c"
      },
      "source": [
        "x_train[miss_1_0_col].head(10)"
      ],
      "execution_count": null,
      "outputs": [
        {
          "output_type": "execute_result",
          "data": {
            "text/html": [
              "<div>\n",
              "<style scoped>\n",
              "    .dataframe tbody tr th:only-of-type {\n",
              "        vertical-align: middle;\n",
              "    }\n",
              "\n",
              "    .dataframe tbody tr th {\n",
              "        vertical-align: top;\n",
              "    }\n",
              "\n",
              "    .dataframe thead th {\n",
              "        text-align: right;\n",
              "    }\n",
              "</style>\n",
              "<table border=\"1\" class=\"dataframe\">\n",
              "  <thead>\n",
              "    <tr style=\"text-align: right;\">\n",
              "      <th></th>\n",
              "      <th>LotFrontage_missval</th>\n",
              "      <th>MasVnrArea_missval</th>\n",
              "      <th>GarageYrBlt_missval</th>\n",
              "    </tr>\n",
              "  </thead>\n",
              "  <tbody>\n",
              "    <tr>\n",
              "      <th>930</th>\n",
              "      <td>0</td>\n",
              "      <td>0</td>\n",
              "      <td>0</td>\n",
              "    </tr>\n",
              "    <tr>\n",
              "      <th>656</th>\n",
              "      <td>0</td>\n",
              "      <td>0</td>\n",
              "      <td>0</td>\n",
              "    </tr>\n",
              "    <tr>\n",
              "      <th>45</th>\n",
              "      <td>0</td>\n",
              "      <td>0</td>\n",
              "      <td>0</td>\n",
              "    </tr>\n",
              "    <tr>\n",
              "      <th>1348</th>\n",
              "      <td>1</td>\n",
              "      <td>0</td>\n",
              "      <td>0</td>\n",
              "    </tr>\n",
              "    <tr>\n",
              "      <th>55</th>\n",
              "      <td>0</td>\n",
              "      <td>0</td>\n",
              "      <td>0</td>\n",
              "    </tr>\n",
              "    <tr>\n",
              "      <th>1228</th>\n",
              "      <td>0</td>\n",
              "      <td>0</td>\n",
              "      <td>0</td>\n",
              "    </tr>\n",
              "    <tr>\n",
              "      <th>963</th>\n",
              "      <td>0</td>\n",
              "      <td>0</td>\n",
              "      <td>0</td>\n",
              "    </tr>\n",
              "    <tr>\n",
              "      <th>921</th>\n",
              "      <td>0</td>\n",
              "      <td>0</td>\n",
              "      <td>1</td>\n",
              "    </tr>\n",
              "    <tr>\n",
              "      <th>458</th>\n",
              "      <td>1</td>\n",
              "      <td>0</td>\n",
              "      <td>0</td>\n",
              "    </tr>\n",
              "    <tr>\n",
              "      <th>1386</th>\n",
              "      <td>0</td>\n",
              "      <td>0</td>\n",
              "      <td>0</td>\n",
              "    </tr>\n",
              "  </tbody>\n",
              "</table>\n",
              "</div>"
            ],
            "text/plain": [
              "      LotFrontage_missval  MasVnrArea_missval  GarageYrBlt_missval\n",
              "930                     0                   0                    0\n",
              "656                     0                   0                    0\n",
              "45                      0                   0                    0\n",
              "1348                    1                   0                    0\n",
              "55                      0                   0                    0\n",
              "1228                    0                   0                    0\n",
              "963                     0                   0                    0\n",
              "921                     0                   0                    1\n",
              "458                     1                   0                    0\n",
              "1386                    0                   0                    0"
            ]
          },
          "metadata": {},
          "execution_count": 24
        }
      ]
    },
    {
      "cell_type": "code",
      "metadata": {
        "id": "rcbm_P4A-xdz"
      },
      "source": [
        "def time_difference(data, col):\n",
        "  data[col] = data['YrSold'] - data[col]\n",
        "  return data"
      ],
      "execution_count": null,
      "outputs": []
    },
    {
      "cell_type": "code",
      "metadata": {
        "colab": {
          "base_uri": "https://localhost:8080/"
        },
        "id": "d7Hg4gON_GOo",
        "outputId": "05b79cb3-ba31-406f-a094-0881bdc7ccc8"
      },
      "source": [
        "for col in ['YearBuilt', 'YearRemodAdd', 'GarageYrBlt']:\n",
        "  x_train = time_difference(x_train, col)\n",
        "  x_test = time_difference(x_test, col)"
      ],
      "execution_count": null,
      "outputs": [
        {
          "output_type": "stream",
          "name": "stderr",
          "text": [
            "/usr/local/lib/python3.7/dist-packages/ipykernel_launcher.py:2: SettingWithCopyWarning: \n",
            "A value is trying to be set on a copy of a slice from a DataFrame.\n",
            "Try using .loc[row_indexer,col_indexer] = value instead\n",
            "\n",
            "See the caveats in the documentation: https://pandas.pydata.org/pandas-docs/stable/user_guide/indexing.html#returning-a-view-versus-a-copy\n",
            "  \n"
          ]
        }
      ]
    },
    {
      "cell_type": "code",
      "metadata": {
        "colab": {
          "base_uri": "https://localhost:8080/"
        },
        "id": "jHkhLGHTELQe",
        "outputId": "63804299-c52a-4732-8eaa-e50b981350d3"
      },
      "source": [
        "x_train.drop(['YrSold'], axis=1, inplace=True)\n",
        "x_test.drop(['YrSold'], axis=1, inplace=True)"
      ],
      "execution_count": null,
      "outputs": [
        {
          "output_type": "stream",
          "name": "stderr",
          "text": [
            "/usr/local/lib/python3.7/dist-packages/pandas/core/frame.py:4174: SettingWithCopyWarning: \n",
            "A value is trying to be set on a copy of a slice from a DataFrame\n",
            "\n",
            "See the caveats in the documentation: https://pandas.pydata.org/pandas-docs/stable/user_guide/indexing.html#returning-a-view-versus-a-copy\n",
            "  errors=errors,\n"
          ]
        }
      ]
    },
    {
      "cell_type": "code",
      "metadata": {
        "colab": {
          "base_uri": "https://localhost:8080/"
        },
        "id": "-RE1fr1rSBCO",
        "outputId": "b1f22f5f-8f65-4f90-c49f-6b4305fd0263"
      },
      "source": [
        "for col in [\"LotFrontage\", \"1stFlrSF\", \"GrLivArea\"]:\n",
        "  x_train[col] = np.log(x_train[col])\n",
        "  x_test[col] = np.log(x_test[col])"
      ],
      "execution_count": null,
      "outputs": [
        {
          "output_type": "stream",
          "name": "stderr",
          "text": [
            "/usr/local/lib/python3.7/dist-packages/ipykernel_launcher.py:2: SettingWithCopyWarning: \n",
            "A value is trying to be set on a copy of a slice from a DataFrame.\n",
            "Try using .loc[row_indexer,col_indexer] = value instead\n",
            "\n",
            "See the caveats in the documentation: https://pandas.pydata.org/pandas-docs/stable/user_guide/indexing.html#returning-a-view-versus-a-copy\n",
            "  \n",
            "/usr/local/lib/python3.7/dist-packages/ipykernel_launcher.py:3: SettingWithCopyWarning: \n",
            "A value is trying to be set on a copy of a slice from a DataFrame.\n",
            "Try using .loc[row_indexer,col_indexer] = value instead\n",
            "\n",
            "See the caveats in the documentation: https://pandas.pydata.org/pandas-docs/stable/user_guide/indexing.html#returning-a-view-versus-a-copy\n",
            "  This is separate from the ipykernel package so we can avoid doing imports until\n"
          ]
        }
      ]
    },
    {
      "cell_type": "code",
      "metadata": {
        "colab": {
          "base_uri": "https://localhost:8080/"
        },
        "id": "ozoEnP7bSbiB",
        "outputId": "393f58d8-d0be-4b40-9509-37435106ab23"
      },
      "source": [
        "[col for col in [\"LotFrontage\", \"1stFlrSF\", \"GrLivArea\"] if x_train[col].isnull().sum() > 0 ]"
      ],
      "execution_count": null,
      "outputs": [
        {
          "output_type": "execute_result",
          "data": {
            "text/plain": [
              "[]"
            ]
          },
          "metadata": {},
          "execution_count": 29
        }
      ]
    },
    {
      "cell_type": "code",
      "metadata": {
        "colab": {
          "base_uri": "https://localhost:8080/"
        },
        "id": "c8k_rv5fSyt7",
        "outputId": "bcbf32ad-fa9f-4658-ff4b-88463f78a8e5"
      },
      "source": [
        "[col for col in [\"LotFrontage\", \"1stFlrSF\", \"GrLivArea\"] if x_test[col].isnull().sum() > 0 ]"
      ],
      "execution_count": null,
      "outputs": [
        {
          "output_type": "execute_result",
          "data": {
            "text/plain": [
              "[]"
            ]
          },
          "metadata": {},
          "execution_count": 30
        }
      ]
    },
    {
      "cell_type": "code",
      "metadata": {
        "colab": {
          "base_uri": "https://localhost:8080/"
        },
        "id": "rjrN4ZoSjlxG",
        "outputId": "e601fcb9-b86b-44d4-889a-74e80eb91f54"
      },
      "source": [
        "x_train['LotArea'], param = stats.yeojohnson(x_train['LotArea'])\n",
        "x_test['LotArea'] = stats.yeojohnson(x_test['LotArea'], lmbda=param)"
      ],
      "execution_count": null,
      "outputs": [
        {
          "output_type": "stream",
          "name": "stderr",
          "text": [
            "/usr/local/lib/python3.7/dist-packages/scipy/stats/morestats.py:1478: RuntimeWarning: divide by zero encountered in log\n",
            "  loglike = -n_samples / 2 * np.log(trans.var(axis=0))\n",
            "/usr/local/lib/python3.7/dist-packages/scipy/optimize/optimize.py:2371: RuntimeWarning: invalid value encountered in double_scalars\n",
            "  w = xb - ((xb - xc) * tmp2 - (xb - xa) * tmp1) / denom\n",
            "/usr/local/lib/python3.7/dist-packages/scipy/optimize/optimize.py:1984: RuntimeWarning: invalid value encountered in double_scalars\n",
            "  tmp1 = (x - w) * (fx - fv)\n",
            "/usr/local/lib/python3.7/dist-packages/scipy/optimize/optimize.py:1985: RuntimeWarning: invalid value encountered in double_scalars\n",
            "  tmp2 = (x - v) * (fx - fw)\n",
            "/usr/local/lib/python3.7/dist-packages/ipykernel_launcher.py:1: SettingWithCopyWarning: \n",
            "A value is trying to be set on a copy of a slice from a DataFrame.\n",
            "Try using .loc[row_indexer,col_indexer] = value instead\n",
            "\n",
            "See the caveats in the documentation: https://pandas.pydata.org/pandas-docs/stable/user_guide/indexing.html#returning-a-view-versus-a-copy\n",
            "  \"\"\"Entry point for launching an IPython kernel.\n",
            "/usr/local/lib/python3.7/dist-packages/ipykernel_launcher.py:2: SettingWithCopyWarning: \n",
            "A value is trying to be set on a copy of a slice from a DataFrame.\n",
            "Try using .loc[row_indexer,col_indexer] = value instead\n",
            "\n",
            "See the caveats in the documentation: https://pandas.pydata.org/pandas-docs/stable/user_guide/indexing.html#returning-a-view-versus-a-copy\n",
            "  \n"
          ]
        }
      ]
    },
    {
      "cell_type": "code",
      "metadata": {
        "id": "4eMN8NxGkYeV"
      },
      "source": [
        "skewed = [\n",
        "    'BsmtFinSF2', 'LowQualFinSF', 'EnclosedPorch',\n",
        "    '3SsnPorch', 'ScreenPorch', 'MiscVal'\n",
        "]\n",
        "for col in skewed:\n",
        "  x_train[col] = np.where(x_train[col]==0,0,1)\n",
        "  x_test[col] = np.where(x_test[col]==0,0,1)"
      ],
      "execution_count": null,
      "outputs": []
    },
    {
      "cell_type": "code",
      "metadata": {
        "colab": {
          "base_uri": "https://localhost:8080/"
        },
        "id": "wdNTg7cnl1Oj",
        "outputId": "02b0d9e1-daf4-4920-e364-558415737415"
      },
      "source": [
        "qual_mappings = {'Po': 1, 'Fa': 2, 'TA': 3, 'Gd': 4, 'Ex': 5, 'Missing': 0, 'NA': 0}\n",
        "\n",
        "qual_col = ['ExterQual', 'ExterCond', 'BsmtQual', 'BsmtCond',\n",
        "             'HeatingQC', 'KitchenQual', 'FireplaceQu',\n",
        "             'GarageQual', 'GarageCond',\n",
        "            ]\n",
        "for col in qual_col:\n",
        "   x_train[col] = x_train[col].map(qual_mappings)\n",
        "   x_test[col] = x_test[col].map(qual_mappings)"
      ],
      "execution_count": null,
      "outputs": [
        {
          "output_type": "stream",
          "name": "stderr",
          "text": [
            "/usr/local/lib/python3.7/dist-packages/ipykernel_launcher.py:8: SettingWithCopyWarning: \n",
            "A value is trying to be set on a copy of a slice from a DataFrame.\n",
            "Try using .loc[row_indexer,col_indexer] = value instead\n",
            "\n",
            "See the caveats in the documentation: https://pandas.pydata.org/pandas-docs/stable/user_guide/indexing.html#returning-a-view-versus-a-copy\n",
            "  \n",
            "/usr/local/lib/python3.7/dist-packages/ipykernel_launcher.py:9: SettingWithCopyWarning: \n",
            "A value is trying to be set on a copy of a slice from a DataFrame.\n",
            "Try using .loc[row_indexer,col_indexer] = value instead\n",
            "\n",
            "See the caveats in the documentation: https://pandas.pydata.org/pandas-docs/stable/user_guide/indexing.html#returning-a-view-versus-a-copy\n",
            "  if __name__ == '__main__':\n"
          ]
        }
      ]
    },
    {
      "cell_type": "code",
      "metadata": {
        "colab": {
          "base_uri": "https://localhost:8080/"
        },
        "id": "LGzOx83MqfOn",
        "outputId": "a0e8ca1b-46c6-45bb-967b-ecec226a5b1f"
      },
      "source": [
        "x_train['FireplaceQu'].isnull().sum()"
      ],
      "execution_count": null,
      "outputs": [
        {
          "output_type": "execute_result",
          "data": {
            "text/plain": [
              "0"
            ]
          },
          "metadata": {},
          "execution_count": 34
        }
      ]
    },
    {
      "cell_type": "code",
      "metadata": {
        "colab": {
          "base_uri": "https://localhost:8080/"
        },
        "id": "m1tyB3Art0kJ",
        "outputId": "54501201-9b99-42ac-b09b-b096a53ec572"
      },
      "source": [
        "x_train['FireplaceQu'].isnull().sum()"
      ],
      "execution_count": null,
      "outputs": [
        {
          "output_type": "execute_result",
          "data": {
            "text/plain": [
              "0"
            ]
          },
          "metadata": {},
          "execution_count": 35
        }
      ]
    },
    {
      "cell_type": "code",
      "metadata": {
        "colab": {
          "base_uri": "https://localhost:8080/"
        },
        "id": "gQyw27A2qwF-",
        "outputId": "5f3139d5-65e3-4729-bccc-4371b44f3a53"
      },
      "source": [
        "x_train['BsmtQual'].isnull().sum()"
      ],
      "execution_count": null,
      "outputs": [
        {
          "output_type": "execute_result",
          "data": {
            "text/plain": [
              "0"
            ]
          },
          "metadata": {},
          "execution_count": 36
        }
      ]
    },
    {
      "cell_type": "code",
      "metadata": {
        "id": "yQxv19IJm7Y0"
      },
      "source": [
        "exposure_mappings = {'No': 1, 'Mn': 2, 'Av': 3, 'Gd': 4}\n",
        "\n",
        "column = 'BsmtExposure'\n",
        "\n",
        "x_train[column] = x_train[column].map(exposure_mappings)\n",
        "x_test[column] = x_test[column].map(exposure_mappings)"
      ],
      "execution_count": null,
      "outputs": []
    },
    {
      "cell_type": "code",
      "metadata": {
        "id": "Vh3u-48wnW62"
      },
      "source": [
        "finish_mappings = {'Missing': 0, 'NA': 0, 'Unf': 1, 'LwQ': 2, 'Rec': 3, 'BLQ': 4, 'ALQ': 5, 'GLQ': 6}\n",
        "\n",
        "finish_col = ['BsmtFinType1', 'BsmtFinType2']\n",
        "\n",
        "for col in finish_col:\n",
        "    x_train[col] = x_train[col].map(finish_mappings)\n",
        "    x_test[col] = x_test[col].map(finish_mappings)"
      ],
      "execution_count": null,
      "outputs": []
    },
    {
      "cell_type": "code",
      "metadata": {
        "id": "DOcV0RsUnqaQ"
      },
      "source": [
        "garage_mappings = {'Missing': 0, 'NA': 0, 'Unf': 1, 'RFn': 2, 'Fin': 3}\n",
        "\n",
        "col_ = 'GarageFinish'\n",
        "\n",
        "x_train[col_] = x_train[col_].map(garage_mappings)\n",
        "x_test[col_] = x_test[col_].map(garage_mappings)"
      ],
      "execution_count": null,
      "outputs": []
    },
    {
      "cell_type": "code",
      "metadata": {
        "id": "Y6bZ7gYXn6Ec"
      },
      "source": [
        "fence_mappings = {'Missing': 0, 'NA': 0, 'MnWw': 1, 'GdWo': 2, 'MnPrv': 3, 'GdPrv': 4}\n",
        "\n",
        "col_ = 'Fence'\n",
        "\n",
        "x_train[col_] = x_train[col_].map(fence_mappings)\n",
        "x_test[col_] = x_test[col_].map(fence_mappings)\n"
      ],
      "execution_count": null,
      "outputs": []
    },
    {
      "cell_type": "code",
      "metadata": {
        "colab": {
          "base_uri": "https://localhost:8080/"
        },
        "id": "5zMUb7R8odZ9",
        "outputId": "54359ef2-f07d-4f36-cf80-214839839586"
      },
      "source": [
        "[col for col in x_train.columns if x_train[col].isnull().sum() > 0]"
      ],
      "execution_count": null,
      "outputs": [
        {
          "output_type": "execute_result",
          "data": {
            "text/plain": [
              "[]"
            ]
          },
          "metadata": {},
          "execution_count": 41
        }
      ]
    },
    {
      "cell_type": "code",
      "metadata": {
        "colab": {
          "base_uri": "https://localhost:8080/"
        },
        "id": "vQN_V5LtHaBi",
        "outputId": "adc904e9-9166-4305-8912-0a9d71b12e87"
      },
      "source": [
        "# taking other categorical features\n",
        "col_category = ['Fence', 'GarageFinish', 'BsmtExposure'] + qual_col + finish_col\n",
        "other_col_categorical = [col for col in df_object if col not in col_category]\n",
        "len(other_col_categorical)"
      ],
      "execution_count": null,
      "outputs": [
        {
          "output_type": "execute_result",
          "data": {
            "text/plain": [
              "30"
            ]
          },
          "metadata": {},
          "execution_count": 42
        }
      ]
    },
    {
      "cell_type": "code",
      "metadata": {
        "colab": {
          "base_uri": "https://localhost:8080/"
        },
        "id": "WWlYhK-t7Fug",
        "outputId": "617fd57c-e053-4a2a-dceb-f39e4f08a657"
      },
      "source": [
        "for col in other_col_categorical:\n",
        "  print(f'{col}: {x_train[col].unique()}')"
      ],
      "execution_count": null,
      "outputs": [
        {
          "output_type": "stream",
          "name": "stdout",
          "text": [
            "MSZoning: ['RL' 'RM' 'FV' 'RH' 'C (all)']\n",
            "Street: ['Pave' 'Grvl']\n",
            "Alley: ['Missing' 'Grvl' 'Pave']\n",
            "LotShape: ['IR1' 'Reg' 'IR3' 'IR2']\n",
            "LandContour: ['HLS' 'Lvl' 'Low' 'Bnk']\n",
            "Utilities: ['AllPub' 'NoSeWa']\n",
            "LotConfig: ['Inside' 'Corner' 'FR2' 'FR3' 'CulDSac']\n",
            "LandSlope: ['Gtl' 'Mod' 'Sev']\n",
            "Neighborhood: ['Timber' 'NAmes' 'NridgHt' 'SawyerW' 'CollgCr' 'Edwards' 'OldTown'\n",
            " 'NWAmes' 'Crawfor' 'Mitchel' 'Gilbert' 'Somerst' 'BrkSide' 'IDOTRR'\n",
            " 'Sawyer' 'NoRidge' 'BrDale' 'Blmngtn' 'MeadowV' 'StoneBr' 'SWISU'\n",
            " 'Veenker' 'ClearCr' 'NPkVill' 'Blueste']\n",
            "Condition1: ['Norm' 'Feedr' 'RRAn' 'Artery' 'PosN' 'RRAe' 'PosA' 'RRNn' 'RRNe']\n",
            "Condition2: ['Norm' 'Feedr' 'PosN' 'RRNn' 'PosA' 'Artery' 'RRAe']\n",
            "BldgType: ['1Fam' 'TwnhsE' 'Duplex' '2fmCon' 'Twnhs']\n",
            "HouseStyle: ['1Story' '1.5Fin' '2Story' 'SLvl' 'SFoyer' '1.5Unf' '2.5Fin' '2.5Unf']\n",
            "RoofStyle: ['Gable' 'Hip' 'Gambrel' 'Mansard' 'Flat' 'Shed']\n",
            "RoofMatl: ['CompShg' 'WdShngl' 'Tar&Grv' 'ClyTile' 'Membran' 'WdShake' 'Metal'\n",
            " 'Roll']\n",
            "Exterior1st: ['VinylSd' 'HdBoard' 'MetalSd' 'Stucco' 'Plywood' 'BrkFace' 'CemntBd'\n",
            " 'Wd Sdng' 'AsbShng' 'WdShing' 'AsphShn' 'BrkComm' 'ImStucc' 'CBlock'\n",
            " 'Stone']\n",
            "Exterior2nd: ['VinylSd' 'HdBoard' 'MetalSd' 'Plywood' 'Wd Shng' 'Stucco' 'CmentBd'\n",
            " 'Wd Sdng' 'AsphShn' 'BrkFace' 'AsbShng' 'Brk Cmn' 'ImStucc' 'Stone'\n",
            " 'CBlock' 'Other']\n",
            "MasVnrType: ['None' 'BrkFace' 'BrkCmn' 'Stone']\n",
            "Foundation: ['PConc' 'CBlock' 'BrkTil' 'Slab' 'Wood' 'Stone']\n",
            "Heating: ['GasA' 'GasW' 'Wall' 'OthW' 'Grav' 'Floor']\n",
            "CentralAir: ['Y' 'N']\n",
            "Electrical: ['SBrkr' 'FuseF' 'FuseA' 'FuseP' 'Mix']\n",
            "Functional: ['Typ' 'Min2' 'Min1' 'Sev' 'Maj2' 'Mod' 'Maj1']\n",
            "GarageType: ['Attchd' 'Detchd' 'BuiltIn' 'Basment' 'CarPort' '2Types']\n",
            "PavedDrive: ['Y' 'N' 'P']\n",
            "PoolQC: ['Missing' 'Fa' 'Gd' 'Ex']\n",
            "MiscFeature: ['Missing' 'TenC' 'Shed' 'Gar2' 'Othr']\n",
            "SaleType: ['WD' 'New' 'COD' 'ConLI' 'CWD' 'Con' 'ConLD' 'ConLw' 'Oth']\n",
            "SaleCondition: ['Normal' 'Partial' 'Alloca' 'Abnorml' 'Family' 'AdjLand']\n",
            "MSSubClass: [20 120 90 70 60 30 80 190 50 160 85 180 45 75 40]\n"
          ]
        }
      ]
    },
    {
      "cell_type": "code",
      "metadata": {
        "id": "tBrBltjv77ax"
      },
      "source": [
        "for col in other_col_categorical:\n",
        "  perc_of_observe = x_train[col].value_counts(normalize=True)\n",
        "  tmp = perc_of_observe[perc_of_observe>0.01].index\n",
        "  print(f'{col} : {tmp}')\n",
        "  print()\n",
        "  x_train[col] = np.where(x_train[col].isin(tmp), x_train[col], 'Rare')\n",
        "  x_test[col] = np.where(x_test[col].isin(tmp), x_test[col], 'Rare')\n",
        "\n",
        "  #print(x_train[perc_of_observe < 0.01])\n",
        "   #tmp[other_col_categorical] = perc_of_observe < 0.01"
      ],
      "execution_count": null,
      "outputs": []
    },
    {
      "cell_type": "code",
      "metadata": {
        "colab": {
          "base_uri": "https://localhost:8080/"
        },
        "id": "L78v4uEyTvsO",
        "outputId": "46cc4f91-40b9-4f02-b68c-5703a0852b31"
      },
      "source": [
        "perc_of_observe = x_train['MSZoning'].value_counts(normalize=True)\n",
        "tmp1 = perc_of_observe[perc_of_observe>0.01]\n",
        "tmp = perc_of_observe[perc_of_observe>0.01].index\n",
        "x_train['MSZoning'].isin(tmp1)\n",
        "#print(perc_of_observe.isin(tmp1))\n",
        "#print(tmp1)\n",
        "#print(tmp)\n",
        "#print(type(tmp1))\n",
        "#print(type(tmp))\n"
      ],
      "execution_count": null,
      "outputs": [
        {
          "output_type": "execute_result",
          "data": {
            "text/plain": [
              "930     False\n",
              "656     False\n",
              "45      False\n",
              "1348    False\n",
              "55      False\n",
              "        ...  \n",
              "763     False\n",
              "835     False\n",
              "1216    False\n",
              "559     False\n",
              "684     False\n",
              "Name: MSZoning, Length: 1314, dtype: bool"
            ]
          },
          "metadata": {},
          "execution_count": 45
        }
      ]
    },
    {
      "cell_type": "code",
      "metadata": {
        "colab": {
          "base_uri": "https://localhost:8080/"
        },
        "id": "izhI6_W7fsWd",
        "outputId": "78735016-b2d7-44a1-bcfd-3847d7a74c10"
      },
      "source": [
        "tmporal = pd.concat([x_train, y_train], axis=1)\n",
        "label = tmporal.groupby('MSZoning')['SalePrice'].mean().sort_values()\n",
        "label1 = tmporal.groupby('MSZoning')['SalePrice'].mean().sort_values().index\n",
        "print(label)\n",
        "print(label1)\n"
      ],
      "execution_count": null,
      "outputs": [
        {
          "output_type": "stream",
          "name": "stdout",
          "text": [
            "MSZoning\n",
            "Rare    11.118259\n",
            "RM      11.690486\n",
            "RH      11.749840\n",
            "RL      12.088138\n",
            "FV      12.256816\n",
            "Name: SalePrice, dtype: float64\n",
            "Index(['Rare', 'RM', 'RH', 'RL', 'FV'], dtype='object', name='MSZoning')\n"
          ]
        }
      ]
    },
    {
      "cell_type": "code",
      "metadata": {
        "colab": {
          "base_uri": "https://localhost:8080/",
          "height": 70
        },
        "id": "nH3cTxCfoLzf",
        "outputId": "7aa775a8-9e41-42aa-8ca5-68db536b06cf"
      },
      "source": [
        "'''\n",
        "for col in other_col_categorical:\n",
        "  tmporal = pd.concat([x_train, y_train], axis=1)\n",
        "  label_from_low_to_high = tmporal.groupby(col)['SalePrice'].mean().sort_values().index\n",
        "  label_equal_to_num = {val:i for i, val in enumerate(label_from_low_to_high)}\n",
        "  print(f'{col}: {label_equal_to_num}')\n",
        "\n",
        "  x_train[col] = x_train[col].map(label_equal_to_num)\n",
        "  x_test[col] = x_test[col].map(label_equal_to_num)\n",
        "'''\n"
      ],
      "execution_count": null,
      "outputs": [
        {
          "output_type": "execute_result",
          "data": {
            "application/vnd.google.colaboratory.intrinsic+json": {
              "type": "string"
            },
            "text/plain": [
              "\"\\nfor col in other_col_categorical:\\n  tmporal = pd.concat([x_train, y_train], axis=1)\\n  label_from_low_to_high = tmporal.groupby(col)['SalePrice'].mean().sort_values().index\\n  label_equal_to_num = {val:i for i, val in enumerate(label_from_low_to_high)}\\n  print(f'{col}: {label_equal_to_num}')\\n\\n  x_train[col] = x_train[col].map(label_equal_to_num)\\n  x_test[col] = x_test[col].map(label_equal_to_num)\\n\""
            ]
          },
          "metadata": {},
          "execution_count": 47
        }
      ]
    },
    {
      "cell_type": "code",
      "metadata": {
        "id": "5GXfqFIBrOvf"
      },
      "source": [
        "def categorical_to_number(x_train, x_test, y_train, col, target):\n",
        "  tmporal = pd.concat([x_train, y_train], axis=1)\n",
        "  label_from_low_to_high = tmporal.groupby(col)[target].mean().sort_values().index\n",
        "  label_equal_to_num = {val:i for i, val in enumerate(label_from_low_to_high)}\n",
        "  print(f'{col}: {label_equal_to_num}')\n",
        "\n",
        "  x_train[col] = x_train[col].map(label_equal_to_num)\n",
        "  x_test[col] = x_test[col].map(label_equal_to_num)\n"
      ],
      "execution_count": null,
      "outputs": []
    },
    {
      "cell_type": "code",
      "metadata": {
        "colab": {
          "base_uri": "https://localhost:8080/"
        },
        "id": "J-dqsuc0r0BW",
        "outputId": "2b21c52c-13e7-49e1-c1a2-c289a0b23df3"
      },
      "source": [
        "for col in other_col_categorical:\n",
        "  categorical_to_number(x_train, x_test, y_train, col, 'SalePrice')\n",
        "\n"
      ],
      "execution_count": null,
      "outputs": [
        {
          "output_type": "stream",
          "name": "stdout",
          "text": [
            "MSZoning: {'Rare': 0, 'RM': 1, 'RH': 2, 'RL': 3, 'FV': 4}\n",
            "Street: {'Rare': 0, 'Pave': 1}\n",
            "Alley: {'Grvl': 0, 'Pave': 1, 'Missing': 2}\n"
          ]
        },
        {
          "output_type": "stream",
          "name": "stderr",
          "text": [
            "/usr/local/lib/python3.7/dist-packages/ipykernel_launcher.py:7: SettingWithCopyWarning: \n",
            "A value is trying to be set on a copy of a slice from a DataFrame.\n",
            "Try using .loc[row_indexer,col_indexer] = value instead\n",
            "\n",
            "See the caveats in the documentation: https://pandas.pydata.org/pandas-docs/stable/user_guide/indexing.html#returning-a-view-versus-a-copy\n",
            "  import sys\n",
            "/usr/local/lib/python3.7/dist-packages/ipykernel_launcher.py:8: SettingWithCopyWarning: \n",
            "A value is trying to be set on a copy of a slice from a DataFrame.\n",
            "Try using .loc[row_indexer,col_indexer] = value instead\n",
            "\n",
            "See the caveats in the documentation: https://pandas.pydata.org/pandas-docs/stable/user_guide/indexing.html#returning-a-view-versus-a-copy\n",
            "  \n"
          ]
        },
        {
          "output_type": "stream",
          "name": "stdout",
          "text": [
            "LotShape: {'Reg': 0, 'IR1': 1, 'Rare': 2, 'IR2': 3}\n",
            "LandContour: {'Bnk': 0, 'Lvl': 1, 'Low': 2, 'HLS': 3}\n",
            "Utilities: {'Rare': 0, 'AllPub': 1}\n",
            "LotConfig: {'Inside': 0, 'FR2': 1, 'Corner': 2, 'Rare': 3, 'CulDSac': 4}\n",
            "LandSlope: {'Gtl': 0, 'Mod': 1, 'Rare': 2}\n",
            "Neighborhood: {'IDOTRR': 0, 'MeadowV': 1, 'BrDale': 2, 'Edwards': 3, 'BrkSide': 4, 'OldTown': 5, 'Sawyer': 6, 'SWISU': 7, 'NAmes': 8, 'Mitchel': 9, 'SawyerW': 10, 'Rare': 11, 'NWAmes': 12, 'Gilbert': 13, 'Blmngtn': 14, 'CollgCr': 15, 'Crawfor': 16, 'ClearCr': 17, 'Somerst': 18, 'Timber': 19, 'StoneBr': 20, 'NridgHt': 21, 'NoRidge': 22}\n",
            "Condition1: {'Artery': 0, 'Feedr': 1, 'Norm': 2, 'RRAn': 3, 'Rare': 4, 'PosN': 5}\n",
            "Condition2: {'Rare': 0, 'Norm': 1}\n",
            "BldgType: {'2fmCon': 0, 'Duplex': 1, 'Twnhs': 2, '1Fam': 3, 'TwnhsE': 4}\n",
            "HouseStyle: {'SFoyer': 0, '1.5Fin': 1, 'Rare': 2, '1Story': 3, 'SLvl': 4, '2Story': 5}\n",
            "RoofStyle: {'Gable': 0, 'Rare': 1, 'Hip': 2}\n",
            "RoofMatl: {'CompShg': 0, 'Rare': 1}\n",
            "Exterior1st: {'AsbShng': 0, 'Wd Sdng': 1, 'WdShing': 2, 'MetalSd': 3, 'Stucco': 4, 'Rare': 5, 'HdBoard': 6, 'Plywood': 7, 'BrkFace': 8, 'CemntBd': 9, 'VinylSd': 10}\n",
            "Exterior2nd: {'AsbShng': 0, 'Wd Sdng': 1, 'MetalSd': 2, 'Wd Shng': 3, 'Stucco': 4, 'Rare': 5, 'HdBoard': 6, 'Plywood': 7, 'BrkFace': 8, 'CmentBd': 9, 'VinylSd': 10}\n",
            "MasVnrType: {'Rare': 0, 'None': 1, 'BrkFace': 2, 'Stone': 3}\n",
            "Foundation: {'Slab': 0, 'BrkTil': 1, 'CBlock': 2, 'Rare': 3, 'PConc': 4}\n",
            "Heating: {'Rare': 0, 'GasW': 1, 'GasA': 2}\n",
            "CentralAir: {'N': 0, 'Y': 1}\n",
            "Electrical: {'Rare': 0, 'FuseF': 1, 'FuseA': 2, 'SBrkr': 3}\n",
            "Functional: {'Rare': 0, 'Min2': 1, 'Mod': 2, 'Min1': 3, 'Typ': 4}\n",
            "GarageType: {'Rare': 0, 'Detchd': 1, 'Basment': 2, 'Attchd': 3, 'BuiltIn': 4}\n",
            "PavedDrive: {'N': 0, 'P': 1, 'Y': 2}\n",
            "PoolQC: {'Missing': 0, 'Rare': 1}\n",
            "MiscFeature: {'Rare': 0, 'Shed': 1, 'Missing': 2}\n",
            "SaleType: {'COD': 0, 'Rare': 1, 'WD': 2, 'New': 3}\n",
            "SaleCondition: {'Rare': 0, 'Abnorml': 1, 'Family': 2, 'Normal': 3, 'Partial': 4}\n",
            "MSSubClass: {30: 0, 'Rare': 1, 190: 2, 90: 3, 160: 4, 50: 5, 85: 6, 70: 7, 80: 8, 20: 9, 75: 10, 120: 11, 60: 12}\n"
          ]
        }
      ]
    },
    {
      "cell_type": "code",
      "metadata": {
        "colab": {
          "base_uri": "https://localhost:8080/",
          "height": 276
        },
        "id": "S8PCBXbes_N3",
        "outputId": "83d41105-f535-4ff4-b02d-fd1f1528fb6e"
      },
      "source": [
        "new_df = pd.concat([x_train, y_train], axis=1)\n",
        "tmp = new_df.groupby('MSZoning')['SalePrice'].median()\n",
        "tmp.plot.bar()\n",
        "plt.ylabel('SalePrice')\n",
        "plt.show()"
      ],
      "execution_count": null,
      "outputs": [
        {
          "output_type": "display_data",
          "data": {
            "image/png": "[encoded data removed]",
            "text/plain": [
              "<Figure size 432x288 with 1 Axes>"
            ]
          },
          "metadata": {
            "needs_background": "light"
          }
        }
      ]
    },
    {
      "cell_type": "code",
      "metadata": {
        "id": "RMqbeA-3vNsv"
      },
      "source": [
        "def plot_new_cat_to_num(xtrain, ytrain, col ):\n",
        "  new_df = pd.concat([xtrain, ytrain], axis=1)\n",
        "  tmp = new_df.groupby(col)['SalePrice'].median()\n",
        "  tmp.plot.bar()\n",
        "  plt.ylabel('SalePrice')\n",
        "  plt.show()\n",
        "                     "
      ],
      "execution_count": null,
      "outputs": []
    },
    {
      "cell_type": "code",
      "metadata": {
        "colab": {
          "base_uri": "https://localhost:8080/",
          "height": 1000
        },
        "id": "tn56TgjAv2E7",
        "outputId": "274edad3-16c2-45ff-8956-696bd9ceeaf7"
      },
      "source": [
        "for col in other_col_categorical:\n",
        "  plot_new_cat_to_num(x_train, y_train, col)"
      ],
      "execution_count": null,
      "outputs": [
        {
          "output_type": "display_data",
          "data": {
            "image/png": "[encoded data removed]",
            "text/plain": [
              "<Figure size 432x288 with 1 Axes>"
            ]
          },
          "metadata": {
            "needs_background": "light"
          }
        },
        {
          "output_type": "display_data",
          "data": {
            "image/png": "[encoded data removed]",
            "text/plain": [
              "<Figure size 432x288 with 1 Axes>"
            ]
          },
          "metadata": {
            "needs_background": "light"
          }
        },
        {
          "output_type": "display_data",
          "data": {
            "image/png": "[encoded data removed]",
            "text/plain": [
              "<Figure size 432x288 with 1 Axes>"
            ]
          },
          "metadata": {
            "needs_background": "light"
          }
        },
        {
          "output_type": "display_data",
          "data": {
            "image/png": "[encoded data removed]",
            "text/plain": [
              "<Figure size 432x288 with 1 Axes>"
            ]
          },
          "metadata": {
            "needs_background": "light"
          }
        },
        {
          "output_type": "display_data",
          "data": {
            "image/png": "[encoded data removed]",
            "text/plain": [
              "<Figure size 432x288 with 1 Axes>"
            ]
          },
          "metadata": {
            "needs_background": "light"
          }
        },
        {
          "output_type": "display_data",
          "data": {
            "image/png": "[encoded data removed]",
            "text/plain": [
              "<Figure size 432x288 with 1 Axes>"
            ]
          },
          "metadata": {
            "needs_background": "light"
          }
        },
        {
          "output_type": "display_data",
          "data": {
            "image/png": "[encoded data removed]",
            "text/plain": [
              "<Figure size 432x288 with 1 Axes>"
            ]
          },
          "metadata": {
            "needs_background": "light"
          }
        },
        {
          "output_type": "display_data",
          "data": {
            "image/png": "[encoded data removed]",
            "text/plain": [
              "<Figure size 432x288 with 1 Axes>"
            ]
          },
          "metadata": {
            "needs_background": "light"
          }
        },
        {
          "output_type": "display_data",
          "data": {
            "image/png": "[encoded data removed]",
            "text/plain": [
              "<Figure size 432x288 with 1 Axes>"
            ]
          },
          "metadata": {
            "needs_background": "light"
          }
        },
        {
          "output_type": "display_data",
          "data": {
            "image/png": "[encoded data removed]",
            "text/plain": [
              "<Figure size 432x288 with 1 Axes>"
            ]
          },
          "metadata": {
            "needs_background": "light"
          }
        },
        {
          "output_type": "display_data",
          "data": {
            "image/png": "[encoded data removed]",
            "text/plain": [
              "<Figure size 432x288 with 1 Axes>"
            ]
          },
          "metadata": {
            "needs_background": "light"
          }
        },
        {
          "output_type": "display_data",
          "data": {
            "image/png": "[encoded data removed]",
            "text/plain": [
              "<Figure size 432x288 with 1 Axes>"
            ]
          },
          "metadata": {
            "needs_background": "light"
          }
        },
        {
          "output_type": "display_data",
          "data": {
            "image/png": "[encoded data removed]",
            "text/plain": [
              "<Figure size 432x288 with 1 Axes>"
            ]
          },
          "metadata": {
            "needs_background": "light"
          }
        },
        {
          "output_type": "display_data",
          "data": {
            "image/png": "[encoded data removed]",
            "text/plain": [
              "<Figure size 432x288 with 1 Axes>"
            ]
          },
          "metadata": {
            "needs_background": "light"
          }
        },
        {
          "output_type": "display_data",
          "data": {
            "image/png": "[encoded data removed]",
            "text/plain": [
              "<Figure size 432x288 with 1 Axes>"
            ]
          },
          "metadata": {
            "needs_background": "light"
          }
        },
        {
          "output_type": "display_data",
          "data": {
            "image/png": "[encoded data removed]",
            "text/plain": [
              "<Figure size 432x288 with 1 Axes>"
            ]
          },
          "metadata": {
            "needs_background": "light"
          }
        },
        {
          "output_type": "display_data",
          "data": {
            "image/png": "[encoded data removed]",
            "text/plain": [
              "<Figure size 432x288 with 1 Axes>"
            ]
          },
          "metadata": {
            "needs_background": "light"
          }
        },
        {
          "output_type": "display_data",
          "data": {
            "image/png": "[encoded data removed]",
            "text/plain": [
              "<Figure size 432x288 with 1 Axes>"
            ]
          },
          "metadata": {
            "needs_background": "light"
          }
        },
        {
          "output_type": "display_data",
          "data": {
            "image/png": "[encoded data removed]",
            "text/plain": [
              "<Figure size 432x288 with 1 Axes>"
            ]
          },
          "metadata": {
            "needs_background": "light"
          }
        },
        {
          "output_type": "display_data",
          "data": {
            "image/png": "[encoded data removed]",
            "text/plain": [
              "<Figure size 432x288 with 1 Axes>"
            ]
          },
          "metadata": {
            "needs_background": "light"
          }
        },
        {
          "output_type": "display_data",
          "data": {
            "image/png": "[encoded data removed]",
            "text/plain": [
              "<Figure size 432x288 with 1 Axes>"
            ]
          },
          "metadata": {
            "needs_background": "light"
          }
        },
        {
          "output_type": "display_data",
          "data": {
            "image/png": "[encoded data removed]",
            "text/plain": [
              "<Figure size 432x288 with 1 Axes>"
            ]
          },
          "metadata": {
            "needs_background": "light"
          }
        },
        {
          "output_type": "display_data",
          "data": {
            "image/png": "[encoded data removed]",
            "text/plain": [
              "<Figure size 432x288 with 1 Axes>"
            ]
          },
          "metadata": {
            "needs_background": "light"
          }
        },
        {
          "output_type": "display_data",
          "data": {
            "image/png": "[encoded data removed]",
            "text/plain": [
              "<Figure size 432x288 with 1 Axes>"
            ]
          },
          "metadata": {
            "needs_background": "light"
          }
        },
        {
          "output_type": "display_data",
          "data": {
            "image/png": "[encoded data removed]",
            "text/plain": [
              "<Figure size 432x288 with 1 Axes>"
            ]
          },
          "metadata": {
            "needs_background": "light"
          }
        },
        {
          "output_type": "display_data",
          "data": {
            "image/png": "[encoded data removed]",
            "text/plain": [
              "<Figure size 432x288 with 1 Axes>"
            ]
          },
          "metadata": {
            "needs_background": "light"
          }
        },
        {
          "output_type": "display_data",
          "data": {
            "image/png": "[encoded data removed]",
            "text/plain": [
              "<Figure size 432x288 with 1 Axes>"
            ]
          },
          "metadata": {
            "needs_background": "light"
          }
        },
        {
          "output_type": "display_data",
          "data": {
            "image/png": "[encoded data removed]",
            "text/plain": [
              "<Figure size 432x288 with 1 Axes>"
            ]
          },
          "metadata": {
            "needs_background": "light"
          }
        },
        {
          "output_type": "display_data",
          "data": {
            "image/png": "[encoded data removed]",
            "text/plain": [
              "<Figure size 432x288 with 1 Axes>"
            ]
          },
          "metadata": {
            "needs_background": "light"
          }
        },
        {
          "output_type": "display_data",
          "data": {
            "image/png": "[encoded data removed]",
            "text/plain": [
              "<Figure size 432x288 with 1 Axes>"
            ]
          },
          "metadata": {
            "needs_background": "light"
          }
        }
      ]
    },
    {
      "cell_type": "code",
      "metadata": {
        "id": "QWiUn-fpwHEq"
      },
      "source": [
        "# scale the features\n",
        "from sklearn.preprocessing import MinMaxScaler"
      ],
      "execution_count": null,
      "outputs": []
    },
    {
      "cell_type": "code",
      "metadata": {
        "id": "W05szWyyxXI-"
      },
      "source": [
        "scaler = MinMaxScaler()\n",
        "scaler.fit(x_train)\n",
        "scaled_features_train = scaler.transform(x_train)\n",
        "scaled_features_test = scaler.transform(x_test)\n",
        "x_train = pd.DataFrame(scaled_features_train, columns=x_train.columns)\n",
        "x_test = pd.DataFrame(scaled_features_test, columns=x_test.columns)"
      ],
      "execution_count": null,
      "outputs": []
    },
    {
      "cell_type": "code",
      "metadata": {
        "id": "5S5ONHDgzuuV",
        "colab": {
          "base_uri": "https://localhost:8080/",
          "height": 53
        },
        "outputId": "40a6d000-b26f-48d8-8f78-53d7f828ca7a"
      },
      "source": [
        "'''\n",
        "# for jupyter notebook\n",
        "x_train.to_csv('xtrain.csv', index=False)\n",
        "x_test.to_csv('xtest.csv', index=False)\n",
        "y_train.to_csv('ytrain.csv', index=False)\n",
        "y_test.to_csv('ytest.csv', index=False)\n",
        "'''"
      ],
      "execution_count": null,
      "outputs": [
        {
          "output_type": "execute_result",
          "data": {
            "application/vnd.google.colaboratory.intrinsic+json": {
              "type": "string"
            },
            "text/plain": [
              "\"\\n# for jupyter notebook\\nx_train.to_csv('xtrain.csv', index=False)\\nx_test.to_csv('xtest.csv', index=False)\\ny_train.to_csv('ytrain.csv', index=False)\\ny_test.to_csv('ytest.csv', index=False)\\n\""
            ]
          },
          "metadata": {},
          "execution_count": 55
        }
      ]
    },
    {
      "cell_type": "code",
      "metadata": {
        "colab": {
          "base_uri": "https://localhost:8080/",
          "height": 35
        },
        "id": "vTZuC_sPUh_B",
        "outputId": "0f4871a2-d959-4834-e976-5db0112919b0"
      },
      "source": [
        "'''\n",
        "x_train.to_csv('xtrain.csv', index=False)\n",
        "!cp xtrain.csv '/content/drive/MyDrive/Hauspricefile'\n",
        "'''"
      ],
      "execution_count": null,
      "outputs": [
        {
          "output_type": "execute_result",
          "data": {
            "application/vnd.google.colaboratory.intrinsic+json": {
              "type": "string"
            },
            "text/plain": [
              "\"\\nx_train.to_csv('xtrain.csv', index=False)\\n!cp xtrain.csv '/content/drive/MyDrive/Hauspricefile'\\n\""
            ]
          },
          "metadata": {},
          "execution_count": 56
        }
      ]
    },
    {
      "cell_type": "code",
      "metadata": {
        "colab": {
          "base_uri": "https://localhost:8080/"
        },
        "id": "7ezyhk9TtiW-",
        "outputId": "0f4d69cd-c454-4dae-d741-232d8831ca78"
      },
      "source": [
        "x_test.shape"
      ],
      "execution_count": null,
      "outputs": [
        {
          "output_type": "execute_result",
          "data": {
            "text/plain": [
              "(146, 81)"
            ]
          },
          "metadata": {},
          "execution_count": 57
        }
      ]
    },
    {
      "cell_type": "code",
      "metadata": {
        "id": "1yqlmulRTDl8"
      },
      "source": [
        "x_train.to_csv('/content/drive/MyDrive/hauspricefolder/xtrain.csv', index=False)\n",
        "x_test.to_csv('/content/drive/MyDrive/hauspricefolder/xtest.csv', index=False)\n",
        "y_train.to_csv('/content/drive/MyDrive/hauspricefolder/ytrain.csv', index=False)\n",
        "y_test.to_csv('/content/drive/MyDrive/hauspricefolder/ytest.csv', index=False)"
      ],
      "execution_count": null,
      "outputs": []
    },
    {
      "cell_type": "code",
      "metadata": {
        "colab": {
          "base_uri": "https://localhost:8080/"
        },
        "id": "FXnzfL_F0Ma8",
        "outputId": "908e2f1e-a0f1-4282-fa24-854f6fc72f24"
      },
      "source": [
        "import joblib\n",
        "joblib.dump(scaler, '/content/drive/MyDrive/hauspricefolder/minmax_scaler.joblib')\n"
      ],
      "execution_count": null,
      "outputs": [
        {
          "output_type": "execute_result",
          "data": {
            "text/plain": [
              "['/content/drive/MyDrive/hauspricefolder/minmax_scaler.joblib']"
            ]
          },
          "metadata": {},
          "execution_count": 59
        }
      ]
    }
  ]
}